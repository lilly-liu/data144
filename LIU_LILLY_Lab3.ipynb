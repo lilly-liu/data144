{
  "nbformat": 4,
  "nbformat_minor": 0,
  "metadata": {
    "kernelspec": {
      "display_name": "Python 3",
      "language": "python",
      "name": "python3"
    },
    "language_info": {
      "codemirror_mode": {
        "name": "ipython",
        "version": 3
      },
      "file_extension": ".py",
      "mimetype": "text/x-python",
      "name": "python",
      "nbconvert_exporter": "python",
      "pygments_lexer": "ipython3",
      "version": "3.6.9"
    },
    "colab": {
      "provenance": [],
      "include_colab_link": true
    }
  },
  "cells": [
    {
      "cell_type": "markdown",
      "metadata": {
        "id": "view-in-github",
        "colab_type": "text"
      },
      "source": [
        "<a href=\"https://colab.research.google.com/github/lilly-liu/data144/blob/main/LIU_LILLY_Lab3.ipynb\" target=\"_parent\"><img src=\"https://colab.research.google.com/assets/colab-badge.svg\" alt=\"Open In Colab\"/></a>"
      ]
    },
    {
      "cell_type": "markdown",
      "metadata": {
        "id": "vAxKKJ84ugjs"
      },
      "source": [
        "# DMA Fall '22\n"
      ]
    },
    {
      "cell_type": "code",
      "metadata": {
        "id": "nFr3Tjz_ugjv"
      },
      "source": [
        "NAME = \"Lilly Liu\"\n",
        "COLLABORATORS = \"\""
      ],
      "execution_count": null,
      "outputs": []
    },
    {
      "cell_type": "markdown",
      "metadata": {
        "id": "VtQyVZG7ugj0"
      },
      "source": [
        "---"
      ]
    },
    {
      "cell_type": "markdown",
      "metadata": {
        "deletable": false,
        "editable": false,
        "nbgrader": {
          "checksum": "0ec61936c13b80ce01fa0818121a29a9",
          "grade": false,
          "grade_id": "cell-c6a6e713740ff888",
          "locked": true,
          "schema_version": 1,
          "solution": false
        },
        "id": "dSxT_unDugj1"
      },
      "source": [
        "# Lab 3: Decision Trees\n",
        "\n",
        "**Please read the following instructions very carefully**\n",
        "\n",
        "## Working on the assignment / FAQs\n",
        "- **Always use the seed/random_state as *42* wherever applicable** (This is to ensure repeatability in answers, across students and coding environments)\n",
        "- Questions can be either autograded and manually graded.\n",
        "- The type of question and the points they carry are indicated in each question cell\n",
        "- An autograded question has 3 cells\n",
        "     - **Question cell** : Read only cell containing the question\n",
        "     - **Code Cell** : This is where you write the code\n",
        "     - **Grading cell** : This is where the grading occurs, and **you are required not to edit this cell**\n",
        "- Manually graded questions only have the question and code cells. **All manually graded questions are explicitly stated**\n",
        "- To avoid any ambiguity, each question also specifies what *value* must be set. Note that these are dummy values and not the answers\n",
        "- If an autograded question has multiple answers (due to differences in handling NaNs, zeros etc.), all answers will be considered.\n",
        "- Most assignments have bonus questions for extra credit, do try them out!\n",
        "- You can delete the `raise NotImplementedError()` for all questions.\n",
        "- **Submitting the assignment** : Download the '.ipynb' and '.pdf' files from Colab and upload them to bcourses. Do not delete any outputs from cells before submitting.\n",
        "- That's about it. Happy coding!\n",
        "\n",
        "\n",
        "## About the dataset\n",
        "This assignment uses a dataset obtained from the JSE Data Archive that contains biological and self-reported activity traits of a sample of college students at a single university uploaded in 2013. The study associated with these data focused on exploring if a correspondence exists between eye color and other traits. You will be using gender as the target/label in this lab.\n",
        "\n",
        "FEATURE DESCRIPTIONS:\n",
        "- Color (Blue, Brown, Green, Hazel, Other)\n",
        "- Age (in years)\n",
        "- YearinSchool (First, Second, Third, Fourth, Other)\n",
        "- Height (in inches)\n",
        "- Miles (distance from home town of student to Ames, IA)\n",
        "- Brothers (number of brothers)\n",
        "- Sisters (number of sisters)\n",
        "- CompTime (number of hours spent on computer per week)\n",
        "- Exercise (whether the student exercises Yes or No)\n",
        "- ExerTime (number of hours spent exercising per week)\n",
        "- MusicCDs (number of music CDs student owns)\n",
        "- PlayGames (number of hours spent playing games per week)\n",
        "- WatchTV (number of hours spent watching TV per week\n",
        "\n",
        "Background Information on the dataset: http://jse.amstat.org/v21n2/froelich/eyecolorgender.txt"
      ]
    },
    {
      "cell_type": "code",
      "metadata": {
        "deletable": false,
        "editable": false,
        "nbgrader": {
          "checksum": "0fb5897b9d372125635a32c3c25065db",
          "grade": false,
          "grade_id": "cell-0c1c5a5b7543f388",
          "locked": true,
          "schema_version": 1,
          "solution": false
        },
        "id": "xeiDHBc5ugj2",
        "colab": {
          "base_uri": "https://localhost:8080/",
          "height": 420
        },
        "outputId": "9fd6f554-10c3-4ff7-980c-c20abbb3a396"
      },
      "source": [
        "from collections import Counter, defaultdict\n",
        "from itertools import combinations\n",
        "import pandas as pd\n",
        "import numpy as np\n",
        "import operator\n",
        "import math\n",
        "import itertools\n",
        "from sklearn.feature_extraction import DictVectorizer\n",
        "from sklearn import preprocessing, tree\n",
        "import matplotlib.pyplot as plt\n",
        "\n",
        "\n",
        "!wget -nc http://askoski.berkeley.edu/~zp/eye_color.csv\n",
        "!ls\n",
        "df = pd.read_csv('eye_color.csv')\n",
        "# remove NA's and reset the index\n",
        "df = df.dropna(axis=0, how='any', thresh=None, subset=None, inplace=False)\n",
        "df = df.reset_index(drop=True)\n",
        "\n",
        "df.head()"
      ],
      "execution_count": null,
      "outputs": [
        {
          "output_type": "stream",
          "name": "stdout",
          "text": [
            "--2022-09-21 05:12:31--  http://askoski.berkeley.edu/~zp/eye_color.csv\n",
            "Resolving askoski.berkeley.edu (askoski.berkeley.edu)... 169.229.192.179\n",
            "Connecting to askoski.berkeley.edu (askoski.berkeley.edu)|169.229.192.179|:80... connected.\n",
            "HTTP request sent, awaiting response... 200 OK\n",
            "Length: 101507 (99K) [text/csv]\n",
            "Saving to: ‘eye_color.csv’\n",
            "\n",
            "eye_color.csv       100%[===================>]  99.13K   468KB/s    in 0.2s    \n",
            "\n",
            "2022-09-21 05:12:31 (468 KB/s) - ‘eye_color.csv’ saved [101507/101507]\n",
            "\n",
            "eye_color.csv  sample_data\n"
          ]
        },
        {
          "output_type": "execute_result",
          "data": {
            "text/plain": [
              "   gender  age    year eyecolor  height  miles  brothers  sisters  \\\n",
              "0  female   18   first    hazel    68.0  195.0         0        1   \n",
              "1    male   20   third    brown    70.0  120.0         3        0   \n",
              "2  female   18   first    green    67.0  200.0         0        1   \n",
              "3    male   23  fourth    hazel    74.0  140.0         1        1   \n",
              "4  female   19  second     blue    62.0   60.0         0        1   \n",
              "\n",
              "   computertime exercise  exercisehours  musiccds  playgames  watchtv  \n",
              "0          20.0      Yes            3.0      75.0        6.0     18.0  \n",
              "1          24.0       No            0.0      50.0        0.0      3.0  \n",
              "2          35.0      Yes            3.0      53.0        8.0      1.0  \n",
              "3           5.0      Yes           25.0      50.0        0.0      7.0  \n",
              "4           5.0      Yes            4.0      30.0        2.0      5.0  "
            ],
            "text/html": [
              "\n",
              "  <div id=\"df-99b40064-b69d-450b-b497-527ac94a8c91\">\n",
              "    <div class=\"colab-df-container\">\n",
              "      <div>\n",
              "<style scoped>\n",
              "    .dataframe tbody tr th:only-of-type {\n",
              "        vertical-align: middle;\n",
              "    }\n",
              "\n",
              "    .dataframe tbody tr th {\n",
              "        vertical-align: top;\n",
              "    }\n",
              "\n",
              "    .dataframe thead th {\n",
              "        text-align: right;\n",
              "    }\n",
              "</style>\n",
              "<table border=\"1\" class=\"dataframe\">\n",
              "  <thead>\n",
              "    <tr style=\"text-align: right;\">\n",
              "      <th></th>\n",
              "      <th>gender</th>\n",
              "      <th>age</th>\n",
              "      <th>year</th>\n",
              "      <th>eyecolor</th>\n",
              "      <th>height</th>\n",
              "      <th>miles</th>\n",
              "      <th>brothers</th>\n",
              "      <th>sisters</th>\n",
              "      <th>computertime</th>\n",
              "      <th>exercise</th>\n",
              "      <th>exercisehours</th>\n",
              "      <th>musiccds</th>\n",
              "      <th>playgames</th>\n",
              "      <th>watchtv</th>\n",
              "    </tr>\n",
              "  </thead>\n",
              "  <tbody>\n",
              "    <tr>\n",
              "      <th>0</th>\n",
              "      <td>female</td>\n",
              "      <td>18</td>\n",
              "      <td>first</td>\n",
              "      <td>hazel</td>\n",
              "      <td>68.0</td>\n",
              "      <td>195.0</td>\n",
              "      <td>0</td>\n",
              "      <td>1</td>\n",
              "      <td>20.0</td>\n",
              "      <td>Yes</td>\n",
              "      <td>3.0</td>\n",
              "      <td>75.0</td>\n",
              "      <td>6.0</td>\n",
              "      <td>18.0</td>\n",
              "    </tr>\n",
              "    <tr>\n",
              "      <th>1</th>\n",
              "      <td>male</td>\n",
              "      <td>20</td>\n",
              "      <td>third</td>\n",
              "      <td>brown</td>\n",
              "      <td>70.0</td>\n",
              "      <td>120.0</td>\n",
              "      <td>3</td>\n",
              "      <td>0</td>\n",
              "      <td>24.0</td>\n",
              "      <td>No</td>\n",
              "      <td>0.0</td>\n",
              "      <td>50.0</td>\n",
              "      <td>0.0</td>\n",
              "      <td>3.0</td>\n",
              "    </tr>\n",
              "    <tr>\n",
              "      <th>2</th>\n",
              "      <td>female</td>\n",
              "      <td>18</td>\n",
              "      <td>first</td>\n",
              "      <td>green</td>\n",
              "      <td>67.0</td>\n",
              "      <td>200.0</td>\n",
              "      <td>0</td>\n",
              "      <td>1</td>\n",
              "      <td>35.0</td>\n",
              "      <td>Yes</td>\n",
              "      <td>3.0</td>\n",
              "      <td>53.0</td>\n",
              "      <td>8.0</td>\n",
              "      <td>1.0</td>\n",
              "    </tr>\n",
              "    <tr>\n",
              "      <th>3</th>\n",
              "      <td>male</td>\n",
              "      <td>23</td>\n",
              "      <td>fourth</td>\n",
              "      <td>hazel</td>\n",
              "      <td>74.0</td>\n",
              "      <td>140.0</td>\n",
              "      <td>1</td>\n",
              "      <td>1</td>\n",
              "      <td>5.0</td>\n",
              "      <td>Yes</td>\n",
              "      <td>25.0</td>\n",
              "      <td>50.0</td>\n",
              "      <td>0.0</td>\n",
              "      <td>7.0</td>\n",
              "    </tr>\n",
              "    <tr>\n",
              "      <th>4</th>\n",
              "      <td>female</td>\n",
              "      <td>19</td>\n",
              "      <td>second</td>\n",
              "      <td>blue</td>\n",
              "      <td>62.0</td>\n",
              "      <td>60.0</td>\n",
              "      <td>0</td>\n",
              "      <td>1</td>\n",
              "      <td>5.0</td>\n",
              "      <td>Yes</td>\n",
              "      <td>4.0</td>\n",
              "      <td>30.0</td>\n",
              "      <td>2.0</td>\n",
              "      <td>5.0</td>\n",
              "    </tr>\n",
              "  </tbody>\n",
              "</table>\n",
              "</div>\n",
              "      <button class=\"colab-df-convert\" onclick=\"convertToInteractive('df-99b40064-b69d-450b-b497-527ac94a8c91')\"\n",
              "              title=\"Convert this dataframe to an interactive table.\"\n",
              "              style=\"display:none;\">\n",
              "        \n",
              "  <svg xmlns=\"http://www.w3.org/2000/svg\" height=\"24px\"viewBox=\"0 0 24 24\"\n",
              "       width=\"24px\">\n",
              "    <path d=\"M0 0h24v24H0V0z\" fill=\"none\"/>\n",
              "    <path d=\"M18.56 5.44l.94 2.06.94-2.06 2.06-.94-2.06-.94-.94-2.06-.94 2.06-2.06.94zm-11 1L8.5 8.5l.94-2.06 2.06-.94-2.06-.94L8.5 2.5l-.94 2.06-2.06.94zm10 10l.94 2.06.94-2.06 2.06-.94-2.06-.94-.94-2.06-.94 2.06-2.06.94z\"/><path d=\"M17.41 7.96l-1.37-1.37c-.4-.4-.92-.59-1.43-.59-.52 0-1.04.2-1.43.59L10.3 9.45l-7.72 7.72c-.78.78-.78 2.05 0 2.83L4 21.41c.39.39.9.59 1.41.59.51 0 1.02-.2 1.41-.59l7.78-7.78 2.81-2.81c.8-.78.8-2.07 0-2.86zM5.41 20L4 18.59l7.72-7.72 1.47 1.35L5.41 20z\"/>\n",
              "  </svg>\n",
              "      </button>\n",
              "      \n",
              "  <style>\n",
              "    .colab-df-container {\n",
              "      display:flex;\n",
              "      flex-wrap:wrap;\n",
              "      gap: 12px;\n",
              "    }\n",
              "\n",
              "    .colab-df-convert {\n",
              "      background-color: #E8F0FE;\n",
              "      border: none;\n",
              "      border-radius: 50%;\n",
              "      cursor: pointer;\n",
              "      display: none;\n",
              "      fill: #1967D2;\n",
              "      height: 32px;\n",
              "      padding: 0 0 0 0;\n",
              "      width: 32px;\n",
              "    }\n",
              "\n",
              "    .colab-df-convert:hover {\n",
              "      background-color: #E2EBFA;\n",
              "      box-shadow: 0px 1px 2px rgba(60, 64, 67, 0.3), 0px 1px 3px 1px rgba(60, 64, 67, 0.15);\n",
              "      fill: #174EA6;\n",
              "    }\n",
              "\n",
              "    [theme=dark] .colab-df-convert {\n",
              "      background-color: #3B4455;\n",
              "      fill: #D2E3FC;\n",
              "    }\n",
              "\n",
              "    [theme=dark] .colab-df-convert:hover {\n",
              "      background-color: #434B5C;\n",
              "      box-shadow: 0px 1px 3px 1px rgba(0, 0, 0, 0.15);\n",
              "      filter: drop-shadow(0px 1px 2px rgba(0, 0, 0, 0.3));\n",
              "      fill: #FFFFFF;\n",
              "    }\n",
              "  </style>\n",
              "\n",
              "      <script>\n",
              "        const buttonEl =\n",
              "          document.querySelector('#df-99b40064-b69d-450b-b497-527ac94a8c91 button.colab-df-convert');\n",
              "        buttonEl.style.display =\n",
              "          google.colab.kernel.accessAllowed ? 'block' : 'none';\n",
              "\n",
              "        async function convertToInteractive(key) {\n",
              "          const element = document.querySelector('#df-99b40064-b69d-450b-b497-527ac94a8c91');\n",
              "          const dataTable =\n",
              "            await google.colab.kernel.invokeFunction('convertToInteractive',\n",
              "                                                     [key], {});\n",
              "          if (!dataTable) return;\n",
              "\n",
              "          const docLinkHtml = 'Like what you see? Visit the ' +\n",
              "            '<a target=\"_blank\" href=https://colab.research.google.com/notebooks/data_table.ipynb>data table notebook</a>'\n",
              "            + ' to learn more about interactive tables.';\n",
              "          element.innerHTML = '';\n",
              "          dataTable['output_type'] = 'display_data';\n",
              "          await google.colab.output.renderOutput(dataTable, element);\n",
              "          const docLink = document.createElement('div');\n",
              "          docLink.innerHTML = docLinkHtml;\n",
              "          element.appendChild(docLink);\n",
              "        }\n",
              "      </script>\n",
              "    </div>\n",
              "  </div>\n",
              "  "
            ]
          },
          "metadata": {},
          "execution_count": 2
        }
      ]
    },
    {
      "cell_type": "markdown",
      "metadata": {
        "deletable": false,
        "editable": false,
        "nbgrader": {
          "checksum": "f27367e7e9ea794fdff16caaf9834f90",
          "grade": false,
          "grade_id": "cell-80cb77583712aa18",
          "locked": true,
          "schema_version": 1,
          "solution": false
        },
        "id": "S2_bd_sZugj_"
      },
      "source": [
        "---\n",
        "**Question 1 (0.5 points, autograded)**: How many males and females exist in the dataset?"
      ]
    },
    {
      "cell_type": "code",
      "metadata": {
        "deletable": false,
        "nbgrader": {
          "checksum": "7bae96e9bc3cf6154faf15c8c953a12d",
          "grade": false,
          "grade_id": "cell-30e88bd16d0691ae",
          "locked": false,
          "schema_version": 1,
          "solution": true
        },
        "id": "Qq43exlvugkA",
        "colab": {
          "base_uri": "https://localhost:8080/"
        },
        "outputId": "7beb6dbf-bf7a-4a86-ec09-79408ced3ed0"
      },
      "source": [
        "# YOUR CODE HERE\n",
        "df[df.gender == \"male\"].shape[0]"
      ],
      "execution_count": null,
      "outputs": [
        {
          "output_type": "execute_result",
          "data": {
            "text/plain": [
              "910"
            ]
          },
          "metadata": {},
          "execution_count": 3
        }
      ]
    },
    {
      "cell_type": "code",
      "metadata": {
        "deletable": false,
        "nbgrader": {
          "checksum": "4b015ffcf2248033a4c736e194051ce0",
          "grade": false,
          "grade_id": "cell-b6afcdf2e16edeaf",
          "locked": false,
          "schema_version": 1,
          "solution": true
        },
        "id": "qowIpB1MugkL"
      },
      "source": [
        "# The value set in the variables must be integers\n",
        "num_males = df[df.gender == \"male\"].shape[0] # Replace 0 with the actual value\n",
        "num_females = df[df.gender == \"female\"].shape[0] # Replace 0 with the actual value\n"
      ],
      "execution_count": null,
      "outputs": []
    },
    {
      "cell_type": "code",
      "metadata": {
        "deletable": false,
        "editable": false,
        "nbgrader": {
          "checksum": "b5f6c5a26715775443afa42a101640d3",
          "grade": true,
          "grade_id": "cell-148801df79f2a9ad",
          "locked": true,
          "points": 0.5,
          "schema_version": 1,
          "solution": false
        },
        "id": "rxROmUKRugkQ",
        "colab": {
          "base_uri": "https://localhost:8080/"
        },
        "outputId": "51819203-05a1-4ccf-b078-0fd1daa86228"
      },
      "source": [
        "# This is an autograded cell, do not edit\n",
        "print(num_males, num_females)"
      ],
      "execution_count": null,
      "outputs": [
        {
          "output_type": "stream",
          "name": "stdout",
          "text": [
            "910 1078\n"
          ]
        }
      ]
    },
    {
      "cell_type": "markdown",
      "metadata": {
        "deletable": false,
        "editable": false,
        "nbgrader": {
          "checksum": "46a9256f2edd92e7d4ab52309a6b4c57",
          "grade": false,
          "grade_id": "cell-c087e3cd6c8885e2",
          "locked": true,
          "schema_version": 1,
          "solution": false
        },
        "id": "LE7EGFnbugkU"
      },
      "source": [
        "---\n",
        "**Question 2 (0.5 points, autograded)**: What is the Gini Index of this dataset, using males and females as the target classes?"
      ]
    },
    {
      "cell_type": "code",
      "metadata": {
        "deletable": false,
        "nbgrader": {
          "checksum": "099940e4f38498b7848e39cf16effa72",
          "grade": false,
          "grade_id": "cell-77e48e0f5499c4dc",
          "locked": false,
          "schema_version": 1,
          "solution": true
        },
        "id": "L5-IeBVlugkV"
      },
      "source": [
        "# YOUR CODE HERE\n",
        "pm = num_males/(num_males+num_females)\n",
        "pf = num_females/(num_males+num_females)"
      ],
      "execution_count": null,
      "outputs": []
    },
    {
      "cell_type": "code",
      "metadata": {
        "deletable": false,
        "nbgrader": {
          "checksum": "9ad8fad77a751f201648404551610cd0",
          "grade": false,
          "grade_id": "cell-48020b6f76b01df8",
          "locked": false,
          "schema_version": 1,
          "solution": true
        },
        "id": "qWJVFWqqugkZ"
      },
      "source": [
        "# The value set in the variable must be float\n",
        "gini_index = 1 - (pf**2 + pm**2) # Replace 0 with the actual value / formula\n"
      ],
      "execution_count": null,
      "outputs": []
    },
    {
      "cell_type": "code",
      "metadata": {
        "deletable": false,
        "editable": false,
        "nbgrader": {
          "checksum": "9e64fcb8ce6b4b69fad066fea2ced65a",
          "grade": true,
          "grade_id": "cell-7ae5a16e0caf13e6",
          "locked": true,
          "points": 0.5,
          "schema_version": 1,
          "solution": false
        },
        "id": "N6nvXmTHugke",
        "colab": {
          "base_uri": "https://localhost:8080/"
        },
        "outputId": "a1bc10fa-5211-4fc0-a1d3-048c5a3f76bc"
      },
      "source": [
        "# This is an autograded cell, do not edit\n",
        "print(gini_index)"
      ],
      "execution_count": null,
      "outputs": [
        {
          "output_type": "stream",
          "name": "stdout",
          "text": [
            "0.4964292799047807\n"
          ]
        }
      ]
    },
    {
      "cell_type": "markdown",
      "metadata": {
        "deletable": false,
        "editable": false,
        "nbgrader": {
          "checksum": "df88f99709afdfc9d92e17de990723e4",
          "grade": false,
          "grade_id": "cell-429dd5b9870bc4f0",
          "locked": true,
          "schema_version": 1,
          "solution": false
        },
        "id": "p4XzX2Jjugkj"
      },
      "source": [
        "---\n",
        "## Best Split of a numeric feature\n",
        "**Question 3 (1.5 points, autograded)**: What is the best split point of the 'height' feature? (Still using males and females as the target classes, assuming a binary split)\n",
        "\n",
        "Recall that, to calculate the best split of this numeric field, you'll need to order your data by 'height', then consider the midpoint between each pair of consecutive heights as a potential split point, then calculate the Gini Index for that partitioning. You'll want to keep track of the best split point and its Gini Index (remember that you are trying to minimize the Gini Index)."
      ]
    },
    {
      "cell_type": "code",
      "metadata": {
        "deletable": false,
        "nbgrader": {
          "checksum": "39f67d746e08f968310e08a1e6302254",
          "grade": false,
          "grade_id": "cell-7e178474fbad8e3a",
          "locked": false,
          "schema_version": 1,
          "solution": true
        },
        "id": "C922WXCougkm"
      },
      "source": [
        "def calc_gini(nm, nf):\n",
        "  pm = nm/(nm+nf)\n",
        "  pf = nf/(nm+nf)\n",
        "  return 1 - (pf**2 + pm**2)"
      ],
      "execution_count": null,
      "outputs": []
    },
    {
      "cell_type": "code",
      "source": [
        "sorted_df = df.groupby(['height', 'gender']).count().sort_values(by=['height'])[[\"age\"]].reset_index().rename(columns={\"age\": \"count\"})\n",
        "sorted_df.head()"
      ],
      "metadata": {
        "colab": {
          "base_uri": "https://localhost:8080/",
          "height": 206
        },
        "id": "dej8UYW3T0gA",
        "outputId": "b8971b2a-8e5e-4b0f-8e43-7b461a09a7cd"
      },
      "execution_count": null,
      "outputs": [
        {
          "output_type": "execute_result",
          "data": {
            "text/plain": [
              "   height  gender  count\n",
              "0    44.0  female      1\n",
              "1    52.0  female      1\n",
              "2    54.0  female      1\n",
              "3    56.0  female      3\n",
              "4    57.0  female      2"
            ],
            "text/html": [
              "\n",
              "  <div id=\"df-11e60408-7b50-4d3f-86f3-96949e41a145\">\n",
              "    <div class=\"colab-df-container\">\n",
              "      <div>\n",
              "<style scoped>\n",
              "    .dataframe tbody tr th:only-of-type {\n",
              "        vertical-align: middle;\n",
              "    }\n",
              "\n",
              "    .dataframe tbody tr th {\n",
              "        vertical-align: top;\n",
              "    }\n",
              "\n",
              "    .dataframe thead th {\n",
              "        text-align: right;\n",
              "    }\n",
              "</style>\n",
              "<table border=\"1\" class=\"dataframe\">\n",
              "  <thead>\n",
              "    <tr style=\"text-align: right;\">\n",
              "      <th></th>\n",
              "      <th>height</th>\n",
              "      <th>gender</th>\n",
              "      <th>count</th>\n",
              "    </tr>\n",
              "  </thead>\n",
              "  <tbody>\n",
              "    <tr>\n",
              "      <th>0</th>\n",
              "      <td>44.0</td>\n",
              "      <td>female</td>\n",
              "      <td>1</td>\n",
              "    </tr>\n",
              "    <tr>\n",
              "      <th>1</th>\n",
              "      <td>52.0</td>\n",
              "      <td>female</td>\n",
              "      <td>1</td>\n",
              "    </tr>\n",
              "    <tr>\n",
              "      <th>2</th>\n",
              "      <td>54.0</td>\n",
              "      <td>female</td>\n",
              "      <td>1</td>\n",
              "    </tr>\n",
              "    <tr>\n",
              "      <th>3</th>\n",
              "      <td>56.0</td>\n",
              "      <td>female</td>\n",
              "      <td>3</td>\n",
              "    </tr>\n",
              "    <tr>\n",
              "      <th>4</th>\n",
              "      <td>57.0</td>\n",
              "      <td>female</td>\n",
              "      <td>2</td>\n",
              "    </tr>\n",
              "  </tbody>\n",
              "</table>\n",
              "</div>\n",
              "      <button class=\"colab-df-convert\" onclick=\"convertToInteractive('df-11e60408-7b50-4d3f-86f3-96949e41a145')\"\n",
              "              title=\"Convert this dataframe to an interactive table.\"\n",
              "              style=\"display:none;\">\n",
              "        \n",
              "  <svg xmlns=\"http://www.w3.org/2000/svg\" height=\"24px\"viewBox=\"0 0 24 24\"\n",
              "       width=\"24px\">\n",
              "    <path d=\"M0 0h24v24H0V0z\" fill=\"none\"/>\n",
              "    <path d=\"M18.56 5.44l.94 2.06.94-2.06 2.06-.94-2.06-.94-.94-2.06-.94 2.06-2.06.94zm-11 1L8.5 8.5l.94-2.06 2.06-.94-2.06-.94L8.5 2.5l-.94 2.06-2.06.94zm10 10l.94 2.06.94-2.06 2.06-.94-2.06-.94-.94-2.06-.94 2.06-2.06.94z\"/><path d=\"M17.41 7.96l-1.37-1.37c-.4-.4-.92-.59-1.43-.59-.52 0-1.04.2-1.43.59L10.3 9.45l-7.72 7.72c-.78.78-.78 2.05 0 2.83L4 21.41c.39.39.9.59 1.41.59.51 0 1.02-.2 1.41-.59l7.78-7.78 2.81-2.81c.8-.78.8-2.07 0-2.86zM5.41 20L4 18.59l7.72-7.72 1.47 1.35L5.41 20z\"/>\n",
              "  </svg>\n",
              "      </button>\n",
              "      \n",
              "  <style>\n",
              "    .colab-df-container {\n",
              "      display:flex;\n",
              "      flex-wrap:wrap;\n",
              "      gap: 12px;\n",
              "    }\n",
              "\n",
              "    .colab-df-convert {\n",
              "      background-color: #E8F0FE;\n",
              "      border: none;\n",
              "      border-radius: 50%;\n",
              "      cursor: pointer;\n",
              "      display: none;\n",
              "      fill: #1967D2;\n",
              "      height: 32px;\n",
              "      padding: 0 0 0 0;\n",
              "      width: 32px;\n",
              "    }\n",
              "\n",
              "    .colab-df-convert:hover {\n",
              "      background-color: #E2EBFA;\n",
              "      box-shadow: 0px 1px 2px rgba(60, 64, 67, 0.3), 0px 1px 3px 1px rgba(60, 64, 67, 0.15);\n",
              "      fill: #174EA6;\n",
              "    }\n",
              "\n",
              "    [theme=dark] .colab-df-convert {\n",
              "      background-color: #3B4455;\n",
              "      fill: #D2E3FC;\n",
              "    }\n",
              "\n",
              "    [theme=dark] .colab-df-convert:hover {\n",
              "      background-color: #434B5C;\n",
              "      box-shadow: 0px 1px 3px 1px rgba(0, 0, 0, 0.15);\n",
              "      filter: drop-shadow(0px 1px 2px rgba(0, 0, 0, 0.3));\n",
              "      fill: #FFFFFF;\n",
              "    }\n",
              "  </style>\n",
              "\n",
              "      <script>\n",
              "        const buttonEl =\n",
              "          document.querySelector('#df-11e60408-7b50-4d3f-86f3-96949e41a145 button.colab-df-convert');\n",
              "        buttonEl.style.display =\n",
              "          google.colab.kernel.accessAllowed ? 'block' : 'none';\n",
              "\n",
              "        async function convertToInteractive(key) {\n",
              "          const element = document.querySelector('#df-11e60408-7b50-4d3f-86f3-96949e41a145');\n",
              "          const dataTable =\n",
              "            await google.colab.kernel.invokeFunction('convertToInteractive',\n",
              "                                                     [key], {});\n",
              "          if (!dataTable) return;\n",
              "\n",
              "          const docLinkHtml = 'Like what you see? Visit the ' +\n",
              "            '<a target=\"_blank\" href=https://colab.research.google.com/notebooks/data_table.ipynb>data table notebook</a>'\n",
              "            + ' to learn more about interactive tables.';\n",
              "          element.innerHTML = '';\n",
              "          dataTable['output_type'] = 'display_data';\n",
              "          await google.colab.output.renderOutput(dataTable, element);\n",
              "          const docLink = document.createElement('div');\n",
              "          docLink.innerHTML = docLinkHtml;\n",
              "          element.appendChild(docLink);\n",
              "        }\n",
              "      </script>\n",
              "    </div>\n",
              "  </div>\n",
              "  "
            ]
          },
          "metadata": {},
          "execution_count": 10
        }
      ]
    },
    {
      "cell_type": "code",
      "source": [
        "unique = sorted_df.height.unique()\n",
        "unique"
      ],
      "metadata": {
        "colab": {
          "base_uri": "https://localhost:8080/"
        },
        "id": "xp17I9anQl04",
        "outputId": "59bc29fa-aa72-4f47-c410-2dc3d1cd5fd2"
      },
      "execution_count": null,
      "outputs": [
        {
          "output_type": "execute_result",
          "data": {
            "text/plain": [
              "array([44., 52., 54., 56., 57., 58., 59., 60., 61., 62., 63., 64., 65.,\n",
              "       66., 67., 68., 69., 70., 71., 72., 73., 74., 75., 76., 77., 78.,\n",
              "       79., 80., 82., 85.])"
            ]
          },
          "metadata": {},
          "execution_count": 11
        }
      ]
    },
    {
      "cell_type": "code",
      "metadata": {
        "deletable": false,
        "nbgrader": {
          "checksum": "6f2ddee90f539fef475c3cf581869a7f",
          "grade": false,
          "grade_id": "cell-fdcb9f54f35480c4",
          "locked": false,
          "schema_version": 1,
          "solution": true
        },
        "id": "RiMp3KiOugkv",
        "colab": {
          "base_uri": "https://localhost:8080/"
        },
        "outputId": "0a3b2f36-3fa7-4ea6-9713-464c91232e24"
      },
      "source": [
        "midpoints = []\n",
        "for i in range(len(unique) - 1):\n",
        "  midpoints.append((unique[i] + unique[i+1])/2)\n",
        "print(midpoints)"
      ],
      "execution_count": null,
      "outputs": [
        {
          "output_type": "stream",
          "name": "stdout",
          "text": [
            "[48.0, 53.0, 55.0, 56.5, 57.5, 58.5, 59.5, 60.5, 61.5, 62.5, 63.5, 64.5, 65.5, 66.5, 67.5, 68.5, 69.5, 70.5, 71.5, 72.5, 73.5, 74.5, 75.5, 76.5, 77.5, 78.5, 79.5, 81.0, 83.5]\n"
          ]
        }
      ]
    },
    {
      "cell_type": "code",
      "source": [
        "ginis = {}\n",
        "for m in midpoints:\n",
        "  great = sorted_df[sorted_df[\"height\"] > m]\n",
        "  less = sorted_df[sorted_df[\"height\"] < m]\n",
        "  gf = great[great[\"gender\"] == \"female\"][\"count\"].sum()\n",
        "  gm = great[great[\"gender\"] == \"male\"][\"count\"].sum()\n",
        "  g_gini = calc_gini(gf, gm)\n",
        "  lf = less[less[\"gender\"] == \"female\"][\"count\"].sum()\n",
        "  lm = less[less[\"gender\"] == \"male\"][\"count\"].sum()\n",
        "  l_gini = calc_gini(lf, lm)\n",
        "  d1 = great[\"count\"].sum()\n",
        "  d2 = less[\"count\"].sum()\n",
        "  d = sorted_df[\"count\"].sum()\n",
        "  gini = d1/d * g_gini + d2/d * l_gini\n",
        "  ginis[m] = gini\n",
        "ginis"
      ],
      "metadata": {
        "colab": {
          "base_uri": "https://localhost:8080/"
        },
        "id": "3qlUbIsEWmPt",
        "outputId": "f50759e3-615f-46ae-f7f3-6ce1d65bd265"
      },
      "execution_count": null,
      "outputs": [
        {
          "output_type": "execute_result",
          "data": {
            "text/plain": [
              "{48.0: 0.4962183771982676,\n",
              " 53.0: 0.4960072621023219,\n",
              " 55.0: 0.4957959342959521,\n",
              " 56.5: 0.4951606713946646,\n",
              " 57.5: 0.49473609332764257,\n",
              " 58.5: 0.49558203592271427,\n",
              " 59.5: 0.49463260291974975,\n",
              " 60.5: 0.491047996040019,\n",
              " 61.5: 0.4875122980530241,\n",
              " 62.5: 0.47207412514686226,\n",
              " 63.5: 0.4481288837744534,\n",
              " 64.5: 0.40872777781352343,\n",
              " 65.5: 0.36256711201051195,\n",
              " 66.5: 0.3276257050904938,\n",
              " 67.5: 0.2798782749305067,\n",
              " 68.5: 0.2655288120702919,\n",
              " 69.5: 0.2742177913372161,\n",
              " 70.5: 0.3077499041979495,\n",
              " 71.5: 0.34486976128276436,\n",
              " 72.5: 0.40593256508749465,\n",
              " 73.5: 0.435006170300288,\n",
              " 74.5: 0.4573575802087557,\n",
              " 75.5: 0.47523526702975777,\n",
              " 76.5: 0.48540356691230985,\n",
              " 77.5: 0.490986632992043,\n",
              " 78.5: 0.495244876742762,\n",
              " 79.5: 0.49632723217773617,\n",
              " 81.0: 0.49629734747696924,\n",
              " 83.5: 0.4961333172664572}"
            ]
          },
          "metadata": {},
          "execution_count": 14
        }
      ]
    },
    {
      "cell_type": "code",
      "source": [
        "# #The value set in the variable must be float\n",
        "best_split_point = min(ginis, key = ginis.get) # Replace 0 with the actual value\n",
        "best_split_point\n",
        "\n",
        "# # YOUR CODE HERE\n",
        "# raise NotImplementedError()"
      ],
      "metadata": {
        "colab": {
          "base_uri": "https://localhost:8080/"
        },
        "id": "mOBZnYq3Z0Qi",
        "outputId": "36429464-ad5c-4be6-eef6-542416b81ba4"
      },
      "execution_count": null,
      "outputs": [
        {
          "output_type": "execute_result",
          "data": {
            "text/plain": [
              "68.5"
            ]
          },
          "metadata": {},
          "execution_count": 15
        }
      ]
    },
    {
      "cell_type": "code",
      "metadata": {
        "deletable": false,
        "editable": false,
        "nbgrader": {
          "checksum": "2b3dd2ed02ddb601bc36a52f45defd92",
          "grade": true,
          "grade_id": "cell-323f912bd5314e78",
          "locked": true,
          "points": 1.5,
          "schema_version": 1,
          "solution": false
        },
        "id": "61AwBlXhugk0",
        "colab": {
          "base_uri": "https://localhost:8080/"
        },
        "outputId": "51f42e83-bd03-4c36-9a29-ea2b75f03c91"
      },
      "source": [
        "# This is an autograded cell, do not edit\n",
        "print(best_split_point)"
      ],
      "execution_count": null,
      "outputs": [
        {
          "output_type": "stream",
          "name": "stdout",
          "text": [
            "68.5\n"
          ]
        }
      ]
    },
    {
      "cell_type": "markdown",
      "metadata": {
        "deletable": false,
        "editable": false,
        "nbgrader": {
          "checksum": "166316144c3f9c6f82d2963c96c19ba4",
          "grade": false,
          "grade_id": "cell-aa468156b67c5ab6",
          "locked": true,
          "schema_version": 1,
          "solution": false
        },
        "id": "AawaoNa9ugk2"
      },
      "source": [
        "---\n",
        "**Question 4 (0.5 points, autograded)**: What is the Gini index of the best split point of the 'height' feature? (Still using males and females as the target classes, assuming a binary split)\n"
      ]
    },
    {
      "cell_type": "code",
      "metadata": {
        "deletable": false,
        "nbgrader": {
          "checksum": "ee6e07cc1c224dbd0852a4105190e3f2",
          "grade": false,
          "grade_id": "cell-11b6c20fa6270892",
          "locked": false,
          "schema_version": 1,
          "solution": true
        },
        "id": "J_8GTuoSugk3",
        "colab": {
          "base_uri": "https://localhost:8080/"
        },
        "outputId": "6eb7257a-da6a-4f9f-af03-4aa10695ccea"
      },
      "source": [
        "ginis[68.5]"
      ],
      "execution_count": null,
      "outputs": [
        {
          "output_type": "execute_result",
          "data": {
            "text/plain": [
              "0.2655288120702919"
            ]
          },
          "metadata": {},
          "execution_count": 17
        }
      ]
    },
    {
      "cell_type": "code",
      "metadata": {
        "deletable": false,
        "nbgrader": {
          "checksum": "4264def559ba5fe2e77d3688f04d9cfd",
          "grade": false,
          "grade_id": "cell-bef6191446f0b09e",
          "locked": false,
          "schema_version": 1,
          "solution": true
        },
        "id": "nnY4qayGugk8"
      },
      "source": [
        "# The value set in the variable must be float\n",
        "gini_of_best_split_point = ginis[68.5] # Replace 0 with the actual value"
      ],
      "execution_count": null,
      "outputs": []
    },
    {
      "cell_type": "code",
      "metadata": {
        "deletable": false,
        "editable": false,
        "nbgrader": {
          "checksum": "0a0c63234a8f7fe57d8a19b011609fda",
          "grade": true,
          "grade_id": "cell-a483f7c52ce46218",
          "locked": true,
          "points": 0.5,
          "schema_version": 1,
          "solution": false
        },
        "id": "qtHNnrD8ugk_",
        "colab": {
          "base_uri": "https://localhost:8080/"
        },
        "outputId": "524ede1d-27e8-4591-82e2-8471a440863a"
      },
      "source": [
        "# This is an autograded cell, do not edit\n",
        "print(gini_of_best_split_point)"
      ],
      "execution_count": null,
      "outputs": [
        {
          "output_type": "stream",
          "name": "stdout",
          "text": [
            "0.2655288120702919\n"
          ]
        }
      ]
    },
    {
      "cell_type": "markdown",
      "metadata": {
        "deletable": false,
        "editable": false,
        "nbgrader": {
          "checksum": "3e4a285a07159ff52a5f4ffe396f74d6",
          "grade": false,
          "grade_id": "cell-3d05b5c3faef353d",
          "locked": true,
          "schema_version": 1,
          "solution": false
        },
        "id": "TILEzh_WuglE"
      },
      "source": [
        "---\n",
        "**Question 5 (0.5 points, autograded)**: How much does this partitioning reduce the Gini Index over the Gini index of the overall dataset?"
      ]
    },
    {
      "cell_type": "code",
      "metadata": {
        "deletable": false,
        "nbgrader": {
          "checksum": "58f9b4479c238a525df6aa057e6eaa3b",
          "grade": false,
          "grade_id": "cell-1ab03a8159601e29",
          "locked": false,
          "schema_version": 1,
          "solution": true
        },
        "id": "qOCZ13AAuglG"
      },
      "source": [],
      "execution_count": null,
      "outputs": []
    },
    {
      "cell_type": "code",
      "metadata": {
        "deletable": false,
        "nbgrader": {
          "checksum": "0d222b71a5f4dd420fd140eeefb846d4",
          "grade": false,
          "grade_id": "cell-fbcebc71fc8bc842",
          "locked": false,
          "schema_version": 1,
          "solution": true
        },
        "id": "Z_jBrzFLuglN"
      },
      "source": [
        "# The value set in the variable must be float\n",
        "gini_difference = gini_index -  gini_of_best_split_point # Replace 0 with the actual value\n"
      ],
      "execution_count": null,
      "outputs": []
    },
    {
      "cell_type": "code",
      "metadata": {
        "deletable": false,
        "editable": false,
        "nbgrader": {
          "checksum": "86c116a776736ca45f3b04f15f237623",
          "grade": true,
          "grade_id": "cell-f24e621d36c96976",
          "locked": true,
          "points": 0.5,
          "schema_version": 1,
          "solution": false
        },
        "id": "XrLS99QPuglQ",
        "colab": {
          "base_uri": "https://localhost:8080/"
        },
        "outputId": "911235cb-35ef-4903-95bb-aa13763563d5"
      },
      "source": [
        "gini_difference"
      ],
      "execution_count": null,
      "outputs": [
        {
          "output_type": "execute_result",
          "data": {
            "text/plain": [
              "0.2309004678344888"
            ]
          },
          "metadata": {},
          "execution_count": 21
        }
      ]
    },
    {
      "cell_type": "markdown",
      "metadata": {
        "deletable": false,
        "editable": false,
        "nbgrader": {
          "checksum": "a3c0d5d5951cda89ddc95d0edd3c006d",
          "grade": false,
          "grade_id": "cell-68fc7f06fbb3bd5c",
          "locked": true,
          "schema_version": 1,
          "solution": false
        },
        "id": "4vI5aG7GuglS"
      },
      "source": [
        "---\n",
        "**Question 6 (0.5 points, autograded)**: How many 'female' and 'male' rows are shorter than the best height split point?"
      ]
    },
    {
      "cell_type": "code",
      "metadata": {
        "deletable": false,
        "nbgrader": {
          "checksum": "3d82c210dd5b8b938066fc8b9a0e70e8",
          "grade": false,
          "grade_id": "cell-cbfbed1feed2c2c6",
          "locked": false,
          "schema_version": 1,
          "solution": true
        },
        "id": "Zmt1qgE5uglT"
      },
      "source": [
        "great = sorted_df[sorted_df[\"height\"] > best_split_point]\n",
        "less = sorted_df[sorted_df[\"height\"] < best_split_point]\n",
        "gf = great[great[\"gender\"] == \"female\"][\"count\"].sum()\n",
        "gm = great[great[\"gender\"] == \"male\"][\"count\"].sum()\n",
        "lf = less[less[\"gender\"] == \"female\"][\"count\"].sum()\n",
        "lm = less[less[\"gender\"] == \"male\"][\"count\"].sum()"
      ],
      "execution_count": null,
      "outputs": []
    },
    {
      "cell_type": "code",
      "metadata": {
        "deletable": false,
        "nbgrader": {
          "checksum": "71225beec49fc733245cd37612d3712e",
          "grade": false,
          "grade_id": "cell-fed4f19f21abcc31",
          "locked": false,
          "schema_version": 1,
          "solution": true
        },
        "id": "xAB5GTeauglX"
      },
      "source": [
        "# The value set in the variable must be integer\n",
        "female_rows_below = lf # Replace 0 with the actual value\n",
        "male_rows_below = lm # Replace 0 with the actual value\n"
      ],
      "execution_count": null,
      "outputs": []
    },
    {
      "cell_type": "code",
      "metadata": {
        "deletable": false,
        "editable": false,
        "nbgrader": {
          "checksum": "12c1b2345e628bec41463cf88a60aeb0",
          "grade": true,
          "grade_id": "cell-8129604534bfec74",
          "locked": true,
          "points": 0.5,
          "schema_version": 1,
          "solution": false
        },
        "id": "MiBZAc9vugld",
        "colab": {
          "base_uri": "https://localhost:8080/"
        },
        "outputId": "39a5a347-887c-4c57-a498-c958a093729c"
      },
      "source": [
        "# This is an autograded cell, do not edit\n",
        "print(female_rows_below, male_rows_below)"
      ],
      "execution_count": null,
      "outputs": [
        {
          "output_type": "stream",
          "name": "stdout",
          "text": [
            "905 142\n"
          ]
        }
      ]
    },
    {
      "cell_type": "markdown",
      "metadata": {
        "deletable": false,
        "editable": false,
        "nbgrader": {
          "checksum": "9fa8403981b6352444437901acb0d45c",
          "grade": false,
          "grade_id": "cell-95c30c8534082764",
          "locked": true,
          "schema_version": 1,
          "solution": false
        },
        "id": "GmBNDTILuglg"
      },
      "source": [
        "---\n",
        "**Question 7 (0.5 points, autograded)**: How many 'female' and 'male' rows are taller than the best height split point?"
      ]
    },
    {
      "cell_type": "code",
      "metadata": {
        "deletable": false,
        "nbgrader": {
          "checksum": "e2697ca1d9a6feec241ff33460d57600",
          "grade": false,
          "grade_id": "cell-2314033286696a75",
          "locked": false,
          "schema_version": 1,
          "solution": true
        },
        "id": "46G-hbpnugll"
      },
      "source": [
        "#The value set in the variable must be integer\n",
        "female_rows_above = gf # Replace 0 with the actual value\n",
        "male_rows_above = gm # Replace 0 with the actual value\n"
      ],
      "execution_count": null,
      "outputs": []
    },
    {
      "cell_type": "code",
      "metadata": {
        "deletable": false,
        "editable": false,
        "nbgrader": {
          "checksum": "b2c8fbc90d6eb0473ef27e1855483904",
          "grade": true,
          "grade_id": "cell-da98dfdb73b8de96",
          "locked": true,
          "points": 0.5,
          "schema_version": 1,
          "solution": false
        },
        "id": "n2seT5oauglo",
        "colab": {
          "base_uri": "https://localhost:8080/"
        },
        "outputId": "2c1141e9-16fa-47f5-9f54-1af938e05ec0"
      },
      "source": [
        "# This is an autograded cell, do not edit\n",
        "print(female_rows_above, male_rows_above)"
      ],
      "execution_count": null,
      "outputs": [
        {
          "output_type": "stream",
          "name": "stdout",
          "text": [
            "173 768\n"
          ]
        }
      ]
    },
    {
      "cell_type": "markdown",
      "metadata": {
        "deletable": false,
        "editable": false,
        "nbgrader": {
          "checksum": "1600c335755c3857d742205f32718e81",
          "grade": false,
          "grade_id": "cell-f0f3bf7078e30689",
          "locked": true,
          "schema_version": 1,
          "solution": false
        },
        "id": "waG6P9fyuglt"
      },
      "source": [
        "---\n",
        "## Best Split of a Categorial Variable\n",
        "\n",
        "**Question 8 (0.5 points, autograded)**: How many possible splits are there of the eyecolor feature? (Assuming binary split)\n",
        "\n",
        "Python tip: the combinations function of the itertools module allows you to enumerate combinations of a list. You might want to Google 'power set'.\n"
      ]
    },
    {
      "cell_type": "code",
      "metadata": {
        "deletable": false,
        "nbgrader": {
          "checksum": "2887cf4ef5a35baf851be351c05f0397",
          "grade": false,
          "grade_id": "cell-e5896ba56062be2d",
          "locked": false,
          "schema_version": 1,
          "solution": true
        },
        "id": "1uYaZLJnuglu",
        "colab": {
          "base_uri": "https://localhost:8080/"
        },
        "outputId": "c7eb9ad1-f887-4166-a13b-d8b9682b9a02"
      },
      "source": [
        "from itertools import chain, combinations\n",
        "eyecolors = list(df['eyecolor'].unique())\n",
        "def powerset(iterable):\n",
        "    s = list(iterable)\n",
        "    return chain.from_iterable(combinations(s, r) for r in range(len(s)+1))\n",
        "pset = powerset(eyecolors)\n",
        "colors = list(pset)\n",
        "eyepset = colors[1:len(colors)-1]\n",
        "eyepset\n"
      ],
      "execution_count": null,
      "outputs": [
        {
          "output_type": "execute_result",
          "data": {
            "text/plain": [
              "[('hazel',),\n",
              " ('brown',),\n",
              " ('green',),\n",
              " ('blue',),\n",
              " ('other',),\n",
              " ('hazel', 'brown'),\n",
              " ('hazel', 'green'),\n",
              " ('hazel', 'blue'),\n",
              " ('hazel', 'other'),\n",
              " ('brown', 'green'),\n",
              " ('brown', 'blue'),\n",
              " ('brown', 'other'),\n",
              " ('green', 'blue'),\n",
              " ('green', 'other'),\n",
              " ('blue', 'other'),\n",
              " ('hazel', 'brown', 'green'),\n",
              " ('hazel', 'brown', 'blue'),\n",
              " ('hazel', 'brown', 'other'),\n",
              " ('hazel', 'green', 'blue'),\n",
              " ('hazel', 'green', 'other'),\n",
              " ('hazel', 'blue', 'other'),\n",
              " ('brown', 'green', 'blue'),\n",
              " ('brown', 'green', 'other'),\n",
              " ('brown', 'blue', 'other'),\n",
              " ('green', 'blue', 'other'),\n",
              " ('hazel', 'brown', 'green', 'blue'),\n",
              " ('hazel', 'brown', 'green', 'other'),\n",
              " ('hazel', 'brown', 'blue', 'other'),\n",
              " ('hazel', 'green', 'blue', 'other'),\n",
              " ('brown', 'green', 'blue', 'other')]"
            ]
          },
          "metadata": {},
          "execution_count": 29
        }
      ]
    },
    {
      "cell_type": "code",
      "metadata": {
        "deletable": false,
        "nbgrader": {
          "checksum": "c295a12954acf6f936b6a921a548717d",
          "grade": false,
          "grade_id": "cell-7cc929e1f346c97c",
          "locked": false,
          "schema_version": 1,
          "solution": true
        },
        "id": "FozfnlkNuglx"
      },
      "source": [
        "# The value set in the variable must be integer\n",
        "num_of_splits = len(eyepset) # Replace 0 with the actual value"
      ],
      "execution_count": null,
      "outputs": []
    },
    {
      "cell_type": "code",
      "metadata": {
        "deletable": false,
        "editable": false,
        "nbgrader": {
          "checksum": "d10ef3967a94bfbc24d620dceae732ed",
          "grade": true,
          "grade_id": "cell-e345841556e102c6",
          "locked": true,
          "points": 0.5,
          "schema_version": 1,
          "solution": false
        },
        "id": "cLupsW1Sugl0",
        "colab": {
          "base_uri": "https://localhost:8080/"
        },
        "outputId": "b58d2aa5-77f4-4b8b-b6a5-da232352cab6"
      },
      "source": [
        "# This is an autograded cell, do not edit\n",
        "print(num_of_splits)"
      ],
      "execution_count": null,
      "outputs": [
        {
          "output_type": "stream",
          "name": "stdout",
          "text": [
            "30\n"
          ]
        }
      ]
    },
    {
      "cell_type": "markdown",
      "metadata": {
        "deletable": false,
        "editable": false,
        "nbgrader": {
          "checksum": "3f998cc39260ed85ff0341750544bd86",
          "grade": false,
          "grade_id": "cell-8503b7bec552f92c",
          "locked": true,
          "schema_version": 1,
          "solution": false
        },
        "id": "PuLJsUuvugl3"
      },
      "source": [
        "---\n",
        "**Question 9 (1 points, autograded)**: Which split of eyecolor best splits the female and male rows, as measured by the Gini Index?"
      ]
    },
    {
      "cell_type": "code",
      "metadata": {
        "deletable": false,
        "nbgrader": {
          "checksum": "4f117805db47824ae1ef7129672c0d47",
          "grade": false,
          "grade_id": "cell-76f837f4f27e0842",
          "locked": false,
          "schema_version": 1,
          "solution": true
        },
        "id": "HLOlJnsqugl3",
        "colab": {
          "base_uri": "https://localhost:8080/"
        },
        "outputId": "2ea8fe54-2273-4db3-97f6-b6fe10810e5c"
      },
      "source": [
        "leftset = eyepset[:16]\n",
        "rightset = eyepset[16:]\n",
        "c = df.groupby(['eyecolor', 'gender']).count()[[\"age\"]].reset_index().rename(columns={\"age\": \"count\"})\n",
        "cginis = {}\n",
        "for i in range(15):\n",
        "  left = c[c[\"eyecolor\"].isin(leftset[i])]\n",
        "  right = c[~c[\"eyecolor\"].isin(leftset[i])]\n",
        "  lf = left[left[\"gender\"] == \"female\"][\"count\"].sum()\n",
        "  lm = left[left[\"gender\"] == \"male\"][\"count\"].sum()\n",
        "  left_gini = calc_gini(lf, lm)\n",
        "  rf = right[right[\"gender\"] == \"female\"][\"count\"].sum()\n",
        "  rm = right[right[\"gender\"] == \"male\"][\"count\"].sum()\n",
        "  right_gini = calc_gini(rf, rm)\n",
        "  d1 = left[\"count\"].sum()\n",
        "  d2 = right[\"count\"].sum()\n",
        "  d = c[\"count\"].sum()\n",
        "  gini = d1/d * left_gini + d2/d * right_gini\n",
        "  cginis[i] = gini\n",
        "best_split_group = leftset[min(cginis, key = cginis.get)]\n",
        "best_split_group"
      ],
      "execution_count": null,
      "outputs": [
        {
          "output_type": "execute_result",
          "data": {
            "text/plain": [
              "('green',)"
            ]
          },
          "metadata": {},
          "execution_count": 32
        }
      ]
    },
    {
      "cell_type": "code",
      "metadata": {
        "deletable": false,
        "nbgrader": {
          "checksum": "1904d5cda806153db739b5a397c420ce",
          "grade": false,
          "grade_id": "cell-c6d008b0007ae4d7",
          "locked": false,
          "schema_version": 1,
          "solution": true
        },
        "id": "iTBzhW_Vugl5"
      },
      "source": [
        "# The value set in the variable must be an array\n",
        "colour_group_1 = [\"green\"] # Replace [] with the actual colours/values in the group\n",
        "colour_group_2 = ['hazel', 'brown', 'blue', 'other'] # Replace [] with the actual colours/values in the group\n"
      ],
      "execution_count": null,
      "outputs": []
    },
    {
      "cell_type": "code",
      "metadata": {
        "deletable": false,
        "editable": false,
        "nbgrader": {
          "checksum": "4e306b120de04cbdc496f0bf5ca4bc75",
          "grade": true,
          "grade_id": "cell-633329070c59b89d",
          "locked": true,
          "points": 1,
          "schema_version": 1,
          "solution": false
        },
        "id": "DBKu0dDvugl-",
        "colab": {
          "base_uri": "https://localhost:8080/"
        },
        "outputId": "b37132ed-0744-4a51-bda2-df82ca948f70"
      },
      "source": [
        "# This is an autograded cell, do not edit\n",
        "print(colour_group_1, colour_group_2)"
      ],
      "execution_count": null,
      "outputs": [
        {
          "output_type": "stream",
          "name": "stdout",
          "text": [
            "['green'] ['hazel', 'brown', 'blue', 'other']\n"
          ]
        }
      ]
    },
    {
      "cell_type": "markdown",
      "metadata": {
        "deletable": false,
        "editable": false,
        "nbgrader": {
          "checksum": "a5fa6db03e0b1d03320f702d669e6328",
          "grade": false,
          "grade_id": "cell-54d3a4d63e10789a",
          "locked": true,
          "schema_version": 1,
          "solution": false
        },
        "id": "Q0n3uxWFugmC"
      },
      "source": [
        "---\n",
        "**Question 10 (0.5 points, autograded)**: What is the Gini Index of this best split?"
      ]
    },
    {
      "cell_type": "code",
      "metadata": {
        "deletable": false,
        "nbgrader": {
          "checksum": "efce7c9024ee735ae78576a9e6153798",
          "grade": false,
          "grade_id": "cell-b9d691586c5addbd",
          "locked": false,
          "schema_version": 1,
          "solution": true
        },
        "id": "VYJlCiCuugmJ"
      },
      "source": [
        "# The value set in the variable must be float\n",
        "gini_of_best_split_group = cginis[min(cginis, key = cginis.get)] # Replace 0 with the actual value\n"
      ],
      "execution_count": null,
      "outputs": []
    },
    {
      "cell_type": "code",
      "metadata": {
        "deletable": false,
        "editable": false,
        "nbgrader": {
          "checksum": "2d4da39818e70541f2d3a55729adbae0",
          "grade": true,
          "grade_id": "cell-7332ad4509b48564",
          "locked": true,
          "points": 0.5,
          "schema_version": 1,
          "solution": false
        },
        "id": "MFn6uVBcugmL",
        "colab": {
          "base_uri": "https://localhost:8080/"
        },
        "outputId": "626e7996-d818-4ce1-e728-68430f6b528b"
      },
      "source": [
        "# This is an autograded cell, do not edit\n",
        "print(gini_of_best_split_group)"
      ],
      "execution_count": null,
      "outputs": [
        {
          "output_type": "stream",
          "name": "stdout",
          "text": [
            "0.4930915729509777\n"
          ]
        }
      ]
    },
    {
      "cell_type": "markdown",
      "metadata": {
        "deletable": false,
        "editable": false,
        "nbgrader": {
          "checksum": "473602565cfa2400f2ad7b85fd72b373",
          "grade": false,
          "grade_id": "cell-34f1033ad6a06232",
          "locked": true,
          "schema_version": 1,
          "solution": false
        },
        "id": "_o0PW2rLugmO"
      },
      "source": [
        "---\n",
        "**Question 11 (0.5 points, autograded)**: How much does this partitioning decrease the Gini Index over the Gini index of the overall dataset?"
      ]
    },
    {
      "cell_type": "code",
      "metadata": {
        "deletable": false,
        "nbgrader": {
          "checksum": "bf9360740e6f25bb1c156c93c1869845",
          "grade": false,
          "grade_id": "cell-68d41651a95a23df",
          "locked": false,
          "schema_version": 1,
          "solution": true
        },
        "id": "Ja5w5_ucugmP"
      },
      "source": [],
      "execution_count": null,
      "outputs": []
    },
    {
      "cell_type": "code",
      "metadata": {
        "deletable": false,
        "nbgrader": {
          "checksum": "7d84ef913eb55fa6ab7d5f327bc8b650",
          "grade": false,
          "grade_id": "cell-7e15f66615ed4361",
          "locked": false,
          "schema_version": 1,
          "solution": true
        },
        "id": "Z1m4Yf-NugmR"
      },
      "source": [
        "#The value set in the variable must be float\n",
        "gini_difference_2 = gini_index - gini_of_best_split_group # Replace 0 with the actual value\n"
      ],
      "execution_count": null,
      "outputs": []
    },
    {
      "cell_type": "code",
      "metadata": {
        "deletable": false,
        "editable": false,
        "nbgrader": {
          "checksum": "6ac2eb45e569ee8da44b7ed0faf33edc",
          "grade": true,
          "grade_id": "cell-a879c9d33c4f102f",
          "locked": true,
          "points": 0.5,
          "schema_version": 1,
          "solution": false
        },
        "id": "-7ij3URDugmT",
        "colab": {
          "base_uri": "https://localhost:8080/"
        },
        "outputId": "531eaad1-cd01-4f88-e178-c29927018569"
      },
      "source": [
        "# This is an autograded cell, do not edit\n",
        "print(gini_difference_2)"
      ],
      "execution_count": null,
      "outputs": [
        {
          "output_type": "stream",
          "name": "stdout",
          "text": [
            "0.003337706953802977\n"
          ]
        }
      ]
    },
    {
      "cell_type": "markdown",
      "metadata": {
        "deletable": false,
        "editable": false,
        "nbgrader": {
          "checksum": "60aae9f1a5f6e166acf954ee3219986a",
          "grade": false,
          "grade_id": "cell-a47e13b3fcc0108a",
          "locked": true,
          "schema_version": 1,
          "solution": false
        },
        "id": "C0UNgzrTugmX"
      },
      "source": [
        "---\n",
        "**Question 12 (1 points, autograded)** : How many 'female' rows and 'male' rows are in your first partition? How many 'female' rows and 'male' rows are in your second partition?"
      ]
    },
    {
      "cell_type": "code",
      "metadata": {
        "deletable": false,
        "nbgrader": {
          "checksum": "3c880462e0a6e9e9d64542752b22cbef",
          "grade": false,
          "grade_id": "cell-e4c3bc95376f6df7",
          "locked": false,
          "schema_version": 1,
          "solution": true
        },
        "id": "H-dDxSbDugma"
      },
      "source": [
        "# The value set in the variable must be integer, order doesn't matter\n",
        "partition1_male = lm # Replace 0 with the actual value\n",
        "partition1_female = lf # Replace 0 with the actual value\n",
        "partition2_male = rm # Replace 0 with the actual value\n",
        "partition2_female = rf # Replace 0 with the actual value\n"
      ],
      "execution_count": null,
      "outputs": []
    },
    {
      "cell_type": "code",
      "metadata": {
        "deletable": false,
        "editable": false,
        "nbgrader": {
          "checksum": "0fdc2e6ab8f5b169f5bfd9566d85fc01",
          "grade": true,
          "grade_id": "cell-1c022d94964cb6cc",
          "locked": true,
          "points": 1,
          "schema_version": 1,
          "solution": false
        },
        "id": "XYCfnyCNugmd",
        "colab": {
          "base_uri": "https://localhost:8080/"
        },
        "outputId": "d28f0148-4f4e-4ffd-f409-63a06fffe5ea"
      },
      "source": [
        "# This is an autograded cell, do not edit\n",
        "print(partition1_male, partition1_female, partition2_male, partition2_female)"
      ],
      "execution_count": null,
      "outputs": [
        {
          "output_type": "stream",
          "name": "stdout",
          "text": [
            "368 377 542 701\n"
          ]
        }
      ]
    },
    {
      "cell_type": "markdown",
      "metadata": {
        "deletable": false,
        "editable": false,
        "nbgrader": {
          "checksum": "2d2ab95c05c31c5f214bd422e16e450b",
          "grade": false,
          "grade_id": "cell-d81b2ec1e886e1b6",
          "locked": true,
          "schema_version": 1,
          "solution": false
        },
        "id": "JoFggmQGugmi"
      },
      "source": [
        "---\n",
        "## Training a decision tree\n",
        "**Question 13 (1 points, autograded)**: Using all of the features in the original dataframe read in at the top of this notebook, train a decision tree classifier that has a depth of three (not including the root node). What is the accuracy of this classifier on the training data)?\n",
        "\n",
        "Scikit-learn classifiers require class labels and features to be in numeric arrays. As such, you will need to turn your categorical features into numeric arrays using DictVectorizer. This is a helpful notebook for understanding how to do this: http://nbviewer.ipython.org/gist/sarguido/7423289. You can turn a pandas dataframe of features into a dictionary of the form needed by DictVectorizer by using df.to_dict('records'). Make sure you remove the class label first (in this case, gender). If you use the class label as a feature, your classifier will have a training accuracy of 100%! The example notebook link also shows how to turn your class labels into a numeric array using sklearn.preprocessing.LabelEncoder()."
      ]
    },
    {
      "cell_type": "code",
      "source": [
        "from sklearn.tree import DecisionTreeClassifier\n",
        "from sklearn.metrics import accuracy_score\n",
        "from sklearn.feature_extraction import DictVectorizer\n",
        "\n",
        "nogen = df.drop(columns=['gender'])\n",
        "gender_data = nogen.to_dict('records')\n",
        "vec = DictVectorizer()\n",
        "genvec = vec.fit_transform(gender_data).toarray()\n",
        "\n",
        "from sklearn import preprocessing\n",
        "le = preprocessing.LabelEncoder()\n",
        "genderarr = np.array(df['gender']).tolist()\n",
        "le.fit([\"male\", \"female\"])\n",
        "target = le.transform(genderarr)\n",
        "\n",
        "X = genvec\n",
        "y = target\n",
        "classify = DecisionTreeClassifier(max_depth=3)\n",
        "classify = classify.fit(X, y)\n",
        "y_pred = classify.predict(X)\n"
      ],
      "metadata": {
        "id": "Lpb3ZVbNjg_x"
      },
      "execution_count": null,
      "outputs": []
    },
    {
      "cell_type": "code",
      "metadata": {
        "deletable": false,
        "nbgrader": {
          "checksum": "f26339bc22d99829fefeb18e1c46cb06",
          "grade": false,
          "grade_id": "cell-55c9f9a2702cf09c",
          "locked": false,
          "schema_version": 1,
          "solution": true
        },
        "id": "CqowI-lrugmn"
      },
      "source": [
        "# The value set in the variable must be float\n",
        "accuracy = accuracy_score(y, y_pred) #Replace 0 with the actual value"
      ],
      "execution_count": null,
      "outputs": []
    },
    {
      "cell_type": "code",
      "metadata": {
        "deletable": false,
        "editable": false,
        "nbgrader": {
          "checksum": "75544e763b81e3e36748ea0f4989c6ae",
          "grade": true,
          "grade_id": "cell-329a69c83b199316",
          "locked": true,
          "points": 1,
          "schema_version": 1,
          "solution": false
        },
        "id": "urP93Al5ugmu",
        "colab": {
          "base_uri": "https://localhost:8080/"
        },
        "outputId": "e92acbcb-5198-42d0-e8e2-ea3b2d1694d0"
      },
      "source": [
        "# This is an autograded cell, do not edit\n",
        "print(accuracy)"
      ],
      "execution_count": null,
      "outputs": [
        {
          "output_type": "stream",
          "name": "stdout",
          "text": [
            "0.8646881287726358\n"
          ]
        }
      ]
    },
    {
      "cell_type": "markdown",
      "metadata": {
        "deletable": false,
        "editable": false,
        "nbgrader": {
          "checksum": "f23e20cb9c25f2f8d674f98079625ff2",
          "grade": false,
          "grade_id": "cell-e321872a66519e2c",
          "locked": true,
          "schema_version": 1,
          "solution": false
        },
        "id": "MpU-3jviugm1"
      },
      "source": [
        "---\n",
        "**Question 14 (1 points, manually graded)**: Using the following code snippet, visualize your decision tree. In your write-up, **write down the interpretation of the rule at each node** which is used to perform the splitting.\n",
        "\n",
        "We provide **two options** to visualize decision trees. The first option uses `tree.plot_tree` and the other uses an external tool called `GraphViz`. You can **use either of the two options**.  `tree.plot_tree` is the **recommended and easier option** as it is a built-in function in `sklearn` and doesn't require any additional setup.\n",
        "\n",
        "Uncomment the code, **fill in the clf (classifier) and `feature_names` arguments**. Executing the code will display the tree visualization in the output cell.\n",
        "\n",
        "Note for users who want to install graphviz on their local machines (**you don't need to do install graphviz if you're running the notebook Colab**, which is the class' recommended way of doing assignments):\n",
        "\n",
        "\n",
        "\n",
        "> In order to install graphviz, you may need to download the tool from [this website](https://graphviz.gitlab.io), and then pip3/conda install the python libraries you do not have. Mac users can use ```brew install graphviz``` instead of following the link, and linux users can do the same using their favourite package manager (for example, Ubuntu users can use ```sudo apt-get install graphviz```, followed by the necessary pip3/conda installations.\n",
        "\n",
        "\n"
      ]
    },
    {
      "cell_type": "code",
      "metadata": {
        "id": "CcYGDqUIIGZa",
        "colab": {
          "base_uri": "https://localhost:8080/",
          "height": 792
        },
        "outputId": "5c88f4d3-0499-4039-84d3-af948f1fdf4b"
      },
      "source": [
        "clf = classify\n",
        "fig, ax = plt.subplots(figsize=(14, 14))\n",
        "tree.plot_tree(clf, fontsize=10, feature_names=vec.feature_names_);"
      ],
      "execution_count": null,
      "outputs": [
        {
          "output_type": "display_data",
          "data": {
            "text/plain": [
              "<Figure size 1008x1008 with 1 Axes>"
            ],
            "image/png": "[encoded data removed]"
          },
          "metadata": {
            "needs_background": "light"
          }
        }
      ]
    },
    {
      "cell_type": "code",
      "metadata": {
        "deletable": false,
        "editable": false,
        "nbgrader": {
          "checksum": "b43dac070b745305841e22382bc87bda",
          "grade": false,
          "grade_id": "cell-5aaab8332072d23e",
          "locked": true,
          "schema_version": 1,
          "solution": false
        },
        "id": "H80MNiT4ugm2",
        "colab": {
          "base_uri": "https://localhost:8080/",
          "height": 535
        },
        "outputId": "3b5e6d3b-e21f-4c36-c504-56bc5b0ef6f6"
      },
      "source": [
        "# Option 2 - Using GraphViz. Visualization is prettier, but additional setup may be required if running on your local machine (although no setup required on Colab)\n",
        "\n",
        "from IPython.display import Image\n",
        "import pydotplus\n",
        "import pydot\n",
        "from six import StringIO\n",
        "\n",
        "clf = classify\n",
        "dotfile = StringIO()\n",
        "tree.export_graphviz(clf, out_file=dotfile,\n",
        "                      feature_names=vec.feature_names_,\n",
        "                          class_names=['Female', 'Male'],\n",
        "                          filled=True, rounded=True,\n",
        "                          special_characters=True)\n",
        "graph = pydotplus.graph_from_dot_data(dotfile.getvalue())\n",
        "Image(graph.create_png())\n",
        "\n",
        "\n",
        "# Ignore the cell below, but do not delete it. It is used to grade the image output of this cell."
      ],
      "execution_count": null,
      "outputs": [
        {
          "output_type": "execute_result",
          "data": {
            "image/png": "[encoded data removed]",
            "text/plain": [
              "<IPython.core.display.Image object>"
            ]
          },
          "metadata": {},
          "execution_count": 51
        }
      ]
    },
    {
      "cell_type": "code",
      "metadata": {
        "deletable": false,
        "nbgrader": {
          "checksum": "cd77be0d5dbdbf44dccc26ef3ee69512",
          "grade": true,
          "grade_id": "cell-ebde7100c67bf20c",
          "locked": false,
          "points": 1,
          "schema_version": 1,
          "solution": true
        },
        "id": "ty3tzOLVugm8"
      },
      "source": [
        "# YOUR CODE HERE\n",
        "raise NotImplementedError()"
      ],
      "execution_count": null,
      "outputs": []
    },
    {
      "cell_type": "markdown",
      "metadata": {
        "deletable": false,
        "editable": false,
        "nbgrader": {
          "checksum": "29e84207b6e13109206f7ef78d0ff602",
          "grade": false,
          "grade_id": "cell-06714e6427b2d0d0",
          "locked": true,
          "schema_version": 1,
          "solution": false
        },
        "id": "gIOPTYuiugnF"
      },
      "source": [
        "---\n",
        "## Bonus Question (2 points, auto graded)\n",
        "For each of your leaf nodes, specify the percentage of 'female' rows in that node (out of the total number of rows at that node)\n"
      ]
    },
    {
      "cell_type": "code",
      "metadata": {
        "deletable": false,
        "nbgrader": {
          "checksum": "88cda91aeb11b6f96d6c2bacf4a4804e",
          "grade": false,
          "grade_id": "cell-650a81bc31e6f608",
          "locked": false,
          "schema_version": 1,
          "solution": true
        },
        "id": "co_iRKrUugnG"
      },
      "source": [
        "# The value set in the variable must be array # Replace 0 with the actual value\n",
        "ratios = [774/830, 97/142, 22/27, 12/48, 107/192, 16/137, 37/233, 13/379]"
      ],
      "execution_count": null,
      "outputs": []
    },
    {
      "cell_type": "code",
      "metadata": {
        "deletable": false,
        "editable": false,
        "nbgrader": {
          "checksum": "de18cf01eb62a9398145d3f1879681d5",
          "grade": true,
          "grade_id": "cell-2cc540aa430d101d",
          "locked": true,
          "points": 2,
          "schema_version": 1,
          "solution": false
        },
        "id": "Ugyn_t3lugnH",
        "colab": {
          "base_uri": "https://localhost:8080/"
        },
        "outputId": "80068d19-bfa7-491a-ffb7-c38b74849b3c"
      },
      "source": [
        "# This is an autograded cell, do not edit\n",
        "print(ratios)"
      ],
      "execution_count": null,
      "outputs": [
        {
          "output_type": "stream",
          "name": "stdout",
          "text": [
            "[0.9325301204819277, 0.6830985915492958, 0.8148148148148148, 0.25, 0.5572916666666666, 0.11678832116788321, 0.15879828326180256, 0.03430079155672823]\n"
          ]
        }
      ]
    },
    {
      "cell_type": "markdown",
      "source": [
        "*ⓒ Prof. Zachary Pardos, 2022*"
      ],
      "metadata": {
        "id": "TcHv6u9pzZKV"
      }
    }
  ]
}