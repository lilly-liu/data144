{
  "nbformat": 4,
  "nbformat_minor": 0,
  "metadata": {
    "kernelspec": {
      "display_name": "Python 3",
      "language": "python",
      "name": "python3"
    },
    "language_info": {
      "codemirror_mode": {
        "name": "ipython",
        "version": 3
      },
      "file_extension": ".py",
      "mimetype": "text/x-python",
      "name": "python",
      "nbconvert_exporter": "python",
      "pygments_lexer": "ipython3",
      "version": "3.6.9"
    },
    "colab": {
      "provenance": [],
      "collapsed_sections": []
    }
  },
  "cells": [
    {
      "cell_type": "markdown",
      "metadata": {
        "id": "RTtjzb-C8WfV"
      },
      "source": [
        "DATA MINING & ANALYTICS (2022)\n",
        "\n",
        "Make sure you fill in any place that says `YOUR CODE HERE` or `YOUR ANSWER HERE`, as well as your name below:"
      ]
    },
    {
      "cell_type": "code",
      "metadata": {
        "id": "84YmnDPm8WfX"
      },
      "source": [
        "NAME = \"Lilly Liu\""
      ],
      "execution_count": 2,
      "outputs": []
    },
    {
      "cell_type": "markdown",
      "metadata": {
        "id": "mPzgt7538Wfe"
      },
      "source": [
        "---"
      ]
    },
    {
      "cell_type": "markdown",
      "metadata": {
        "deletable": false,
        "editable": false,
        "nbgrader": {
          "checksum": "421e2e076e4bd859041d2c49e8c1b374",
          "grade": false,
          "grade_id": "cell-9ca594c076da14a9",
          "locked": true,
          "schema_version": 1,
          "solution": false
        },
        "id": "a84b7eS58Wff"
      },
      "source": [
        "# Lab 2: Clustering ##\n",
        "\n",
        "**Please read the following instructions very carefully.**\n",
        "\n",
        "## About the Dataset\n",
        "The dataset for this lab has been created from some custom features from Lab 1. The columns are named as q1, q2....etc. A description of the features can be found at this link: https://docs.google.com/spreadsheets/d/18wwyjGku2HYfgDX9Vez64lGHz31E_PfbpmAdfb7ly6M/edit?usp=sharing\n",
        "\n",
        "## Working on the assignment / FAQs\n",
        "- **Always use the seed/random_state as *42* wherever applicable** (This is to ensure repeatability in answers, across students and coding environments).\n",
        "    - This can typically look like taking in another argument `random_state = 42` when applicable.\n",
        "- The points allotted per question is listed.\n",
        "- To avoid any ambiguity, each question also specifies what *value* the function must return. Note that these are dummy values and not the answers themselves.\n",
        "- If a question has multiple answers (due to differences in handling NaNs, zeros etc.), all answers will be considered.\n",
        "- Most assignments have bonus questions for extra credit, do try them out! \n",
        "- You can delete the `raise NotImplementedError()` when you are attempting the question.\n",
        "- **Submitting the assignment** : Save your work as a PDF (Print -> Save as PDF), download the `.ipynb` file from Colab (Download -> Download as .ipynb), and upload these two files to Gradescope. **Run all cells before submitting.**\n",
        "- **MAKE A COPY OF THIS FILE FOR YOURSELF TO EDIT/SAVE.**\n",
        "- That's about it. Happy coding! "
      ]
    },
    {
      "cell_type": "code",
      "metadata": {
        "deletable": false,
        "editable": false,
        "nbgrader": {
          "checksum": "ccd093de0c01c601220c82809d785907",
          "grade": false,
          "grade_id": "cell-11a8a6cab098e8a1",
          "locked": true,
          "schema_version": 1,
          "solution": false
        },
        "id": "uS-ZiJUd8Wfg",
        "colab": {
          "base_uri": "https://localhost:8080/"
        },
        "outputId": "c5cd1af7-e30d-4aa5-d6c4-b2e2aa01269e"
      },
      "source": [
        "import pandas as pd\n",
        "import collections\n",
        "from sklearn.cluster import KMeans\n",
        "from sklearn.metrics import silhouette_score\n",
        "import numpy as np\n",
        "from sklearn.preprocessing import normalize\n",
        "\n",
        "import matplotlib\n",
        "import matplotlib.pyplot as plt\n",
        "\n",
        "%matplotlib inline\n",
        "matplotlib.style.use('ggplot')\n",
        "\n",
        "#DOWNLOADING DATASET\n",
        "!wget -nc http://askoski.berkeley.edu/~zp/yelp_reviewers.csv \n",
        "# !unzip -u yelp_reviewers.zip\n",
        "print('Dataset Downloaded: yelp_reviewers.csv') \n",
        "df = pd.read_csv('yelp_reviewers.csv', delimiter= ',')\n",
        "df = df.sample(frac=0.3, random_state=42)\n",
        "print(df.dropna().describe())\n",
        "\n",
        "print('....SETUP COMPLETE....')"
      ],
      "execution_count": 3,
      "outputs": [
        {
          "output_type": "stream",
          "name": "stdout",
          "text": [
            "--2022-09-14 21:38:57--  http://askoski.berkeley.edu/~zp/yelp_reviewers.csv\n",
            "Resolving askoski.berkeley.edu (askoski.berkeley.edu)... 169.229.192.179\n",
            "Connecting to askoski.berkeley.edu (askoski.berkeley.edu)|169.229.192.179|:80... connected.\n",
            "HTTP request sent, awaiting response... 200 OK\n",
            "Length: 35809479 (34M) [text/csv]\n",
            "Saving to: ‘yelp_reviewers.csv’\n",
            "\n",
            "yelp_reviewers.csv  100%[===================>]  34.15M  13.6MB/s    in 2.5s    \n",
            "\n",
            "2022-09-14 21:39:00 (13.6 MB/s) - ‘yelp_reviewers.csv’ saved [35809479/35809479]\n",
            "\n",
            "Dataset Downloaded: yelp_reviewers.csv\n",
            "                q3           q4           q5           q6           q7  \\\n",
            "count  7177.000000  7177.000000  7177.000000  7177.000000  7177.000000   \n",
            "mean      6.838651     5.281455     4.750871     8.808973     1.539160   \n",
            "std       7.597977    16.208703    13.866352    19.980443     0.885421   \n",
            "min       1.000000     1.000000     1.000000     1.000000     0.000000   \n",
            "25%       3.000000     1.000000     1.000000     2.000000     1.100000   \n",
            "50%       5.000000     2.000000     2.000000     5.000000     1.610000   \n",
            "75%       9.000000     4.000000     4.000000     9.000000     2.200000   \n",
            "max     252.000000   607.000000   474.000000   773.000000     5.530000   \n",
            "\n",
            "                q8           q9          q10          q11          q12  ...  \\\n",
            "count  7177.000000  7177.000000  7177.000000  7177.000000  7177.000000  ...   \n",
            "mean      0.934928     0.870281     1.549898    26.732782    25.660616  ...   \n",
            "std       0.976816     0.950066     1.024145    10.226302    11.451583  ...   \n",
            "min       0.000000     0.000000     0.000000     2.900000     1.410000  ...   \n",
            "25%       0.000000     0.000000     0.690000    20.000000    16.670000  ...   \n",
            "50%       0.690000     0.690000     1.610000    25.710000    25.000000  ...   \n",
            "75%       1.390000     1.390000     2.200000    33.330000    33.330000  ...   \n",
            "max       6.410000     6.160000     6.650000    77.780000    75.000000  ...   \n",
            "\n",
            "              q16r         q16u         q16v         q16w         q16x  \\\n",
            "count  7177.000000  7177.000000  7177.000000  7177.000000  7177.000000   \n",
            "mean      3.641912     0.462843    22.503414    25.665180     0.003744   \n",
            "std       1.483358     0.507827    14.350555    29.021007     0.006019   \n",
            "min       1.000000     0.000000     1.000000     1.000000     0.000000   \n",
            "25%       3.000000     0.000000    10.000000     9.000000     0.000491   \n",
            "50%       4.000000     0.333333    21.000000    18.000000     0.001967   \n",
            "75%       5.000000     0.666667    33.000000    33.000000     0.004666   \n",
            "max       5.000000     6.000000    53.000000   868.000000     0.150618   \n",
            "\n",
            "              q16y         q16z        q16aa        q16ab        q16ac  \n",
            "count  7177.000000  7177.000000  7177.000000  7177.000000  7177.000000  \n",
            "mean     74.046169     0.675212     0.552041     1.127751     3.649254  \n",
            "std      50.031941     1.503059     2.042566     4.652206     0.977100  \n",
            "min       1.333333     0.000000     0.000000     0.000000     1.000000  \n",
            "25%      39.666667     0.000000     0.000000     0.000000     3.200000  \n",
            "50%      62.900000     0.000000     0.000000     0.500000     3.777778  \n",
            "75%      95.687500     1.000000     0.000000     1.307692     4.333333  \n",
            "max     507.200000    44.000000   106.000000   342.300000     5.000000  \n",
            "\n",
            "[8 rows x 40 columns]\n",
            "....SETUP COMPLETE....\n"
          ]
        }
      ]
    },
    {
      "cell_type": "code",
      "source": [],
      "metadata": {
        "id": "9SgN-0ZSASkg"
      },
      "execution_count": 3,
      "outputs": []
    },
    {
      "cell_type": "code",
      "metadata": {
        "id": "ANCMpJ178foc",
        "colab": {
          "base_uri": "https://localhost:8080/",
          "height": 1000
        },
        "outputId": "ca5f0d41-fea2-411f-b1ed-b0c8eabd1a51"
      },
      "source": [
        "df.head().T"
      ],
      "execution_count": 4,
      "outputs": [
        {
          "output_type": "execute_result",
          "data": {
            "text/plain": [
              "                         129451                  116706  \\\n",
              "user_id  kIWQXgjmVdgEs9BOgr8G5A  fXU_-5DBmNlGhI8fbX-2vQ   \n",
              "q3                            1                       1   \n",
              "q4                            0                       0   \n",
              "q5                            0                       0   \n",
              "q6                            0                       0   \n",
              "q7                          0.0                     0.0   \n",
              "q8                          NaN                     NaN   \n",
              "q9                          NaN                     NaN   \n",
              "q10                         NaN                     NaN   \n",
              "q11                         NaN                     NaN   \n",
              "q12                         NaN                     NaN   \n",
              "q13                         NaN                     NaN   \n",
              "q14                           7                      10   \n",
              "q15                       510.0                   132.0   \n",
              "q16a                          0                       0   \n",
              "q16b                        0.0                     0.0   \n",
              "q16c                        0.0                     0.0   \n",
              "q16d                        3.0                     1.0   \n",
              "q16e                   0.013725                0.045455   \n",
              "q16f                        0.0                     0.0   \n",
              "q16g                          0                       1   \n",
              "q16h                          0                       1   \n",
              "q16i                          0                       0   \n",
              "q16j                        0.0                     0.0   \n",
              "q16k                          0                       0   \n",
              "q16l                          0                       0   \n",
              "q16m                        3.0                     0.0   \n",
              "q16n                        0.0                     0.0   \n",
              "q16o                        0.0                     1.0   \n",
              "q16p                        0.0                     0.0   \n",
              "q16q                        0.0                     0.0   \n",
              "q16r                          3                       1   \n",
              "q16s                experienced             experienced   \n",
              "q16t                         no                      no   \n",
              "q16u                        0.0                     0.0   \n",
              "q16v                         13                      35   \n",
              "q16w                          3                       1   \n",
              "q16x                        0.0                0.007576   \n",
              "q16y                      101.0                    23.0   \n",
              "q16z                          0                       0   \n",
              "q16aa                         0                       0   \n",
              "q16ab                       NaN                     0.0   \n",
              "q16ac                       3.0                     1.0   \n",
              "\n",
              "                         144394                  24699   \\\n",
              "user_id  prF_lbKywPnZhNqvJOOaDw  8GHUeOm807bI5Qh4X3CHBA   \n",
              "q3                            1                       1   \n",
              "q4                            0                       0   \n",
              "q5                            0                       0   \n",
              "q6                            0                       0   \n",
              "q7                          0.0                     0.0   \n",
              "q8                          NaN                     NaN   \n",
              "q9                          NaN                     NaN   \n",
              "q10                         NaN                     NaN   \n",
              "q11                         NaN                     NaN   \n",
              "q12                         NaN                     NaN   \n",
              "q13                         NaN                     NaN   \n",
              "q14                           9                       8   \n",
              "q15                      1792.0                   283.0   \n",
              "q16a                          0                       0   \n",
              "q16b                        0.0                     0.0   \n",
              "q16c                        0.0                     0.0   \n",
              "q16d                        3.0                     5.0   \n",
              "q16e                   0.027344                0.017668   \n",
              "q16f                        0.0                     0.0   \n",
              "q16g                          1                       0   \n",
              "q16h                          1                       0   \n",
              "q16i                          0                       0   \n",
              "q16j                        0.0                     0.0   \n",
              "q16k                          0                       0   \n",
              "q16l                          0                       0   \n",
              "q16m                       12.0                     1.0   \n",
              "q16n                        1.0                     0.0   \n",
              "q16o                        1.0                     0.0   \n",
              "q16p                        1.0                     0.0   \n",
              "q16q                        0.0                     0.0   \n",
              "q16r                          3                       5   \n",
              "q16s                experienced             experienced   \n",
              "q16t                         no                      no   \n",
              "q16u                        2.0                     0.0   \n",
              "q16v                         36                      33   \n",
              "q16w                          3                       5   \n",
              "q16x                   0.001685                     0.0   \n",
              "q16y                      363.0                    50.0   \n",
              "q16z                          0                       0   \n",
              "q16aa                         0                       0   \n",
              "q16ab                       NaN                     2.0   \n",
              "q16ac                       3.0                     5.0   \n",
              "\n",
              "                         47453   \n",
              "user_id  Gd_IGX3BmRYbPD84ovLEoA  \n",
              "q3                            8  \n",
              "q4                            2  \n",
              "q5                            1  \n",
              "q6                            8  \n",
              "q7                         2.08  \n",
              "q8                         0.69  \n",
              "q9                          0.0  \n",
              "q10                        2.08  \n",
              "q11                       18.18  \n",
              "q12                        9.09  \n",
              "q13                       72.73  \n",
              "q14                          10  \n",
              "q15                      663.38  \n",
              "q16a                          4  \n",
              "q16b                   0.353553  \n",
              "q16c                   0.002073  \n",
              "q16d                      4.875  \n",
              "q16e                   0.022989  \n",
              "q16f                   0.330719  \n",
              "q16g                          2  \n",
              "q16h                          6  \n",
              "q16i                          0  \n",
              "q16j                      1.375  \n",
              "q16k                          1  \n",
              "q16l                          0  \n",
              "q16m                        4.5  \n",
              "q16n                      0.125  \n",
              "q16o                       0.75  \n",
              "q16p                        1.0  \n",
              "q16q                   0.192489  \n",
              "q16r                          5  \n",
              "q16s                experienced  \n",
              "q16t                         no  \n",
              "q16u                      0.375  \n",
              "q16v                          8  \n",
              "q16w                         39  \n",
              "q16x                   0.001755  \n",
              "q16y                  91.072917  \n",
              "q16z                          4  \n",
              "q16aa                         0  \n",
              "q16ab                       1.0  \n",
              "q16ac                     4.875  "
            ],
            "text/html": [
              "\n",
              "  <div id=\"df-00bb25f1-6323-400c-89a4-f428e1539360\">\n",
              "    <div class=\"colab-df-container\">\n",
              "      <div>\n",
              "<style scoped>\n",
              "    .dataframe tbody tr th:only-of-type {\n",
              "        vertical-align: middle;\n",
              "    }\n",
              "\n",
              "    .dataframe tbody tr th {\n",
              "        vertical-align: top;\n",
              "    }\n",
              "\n",
              "    .dataframe thead th {\n",
              "        text-align: right;\n",
              "    }\n",
              "</style>\n",
              "<table border=\"1\" class=\"dataframe\">\n",
              "  <thead>\n",
              "    <tr style=\"text-align: right;\">\n",
              "      <th></th>\n",
              "      <th>129451</th>\n",
              "      <th>116706</th>\n",
              "      <th>144394</th>\n",
              "      <th>24699</th>\n",
              "      <th>47453</th>\n",
              "    </tr>\n",
              "  </thead>\n",
              "  <tbody>\n",
              "    <tr>\n",
              "      <th>user_id</th>\n",
              "      <td>kIWQXgjmVdgEs9BOgr8G5A</td>\n",
              "      <td>fXU_-5DBmNlGhI8fbX-2vQ</td>\n",
              "      <td>prF_lbKywPnZhNqvJOOaDw</td>\n",
              "      <td>8GHUeOm807bI5Qh4X3CHBA</td>\n",
              "      <td>Gd_IGX3BmRYbPD84ovLEoA</td>\n",
              "    </tr>\n",
              "    <tr>\n",
              "      <th>q3</th>\n",
              "      <td>1</td>\n",
              "      <td>1</td>\n",
              "      <td>1</td>\n",
              "      <td>1</td>\n",
              "      <td>8</td>\n",
              "    </tr>\n",
              "    <tr>\n",
              "      <th>q4</th>\n",
              "      <td>0</td>\n",
              "      <td>0</td>\n",
              "      <td>0</td>\n",
              "      <td>0</td>\n",
              "      <td>2</td>\n",
              "    </tr>\n",
              "    <tr>\n",
              "      <th>q5</th>\n",
              "      <td>0</td>\n",
              "      <td>0</td>\n",
              "      <td>0</td>\n",
              "      <td>0</td>\n",
              "      <td>1</td>\n",
              "    </tr>\n",
              "    <tr>\n",
              "      <th>q6</th>\n",
              "      <td>0</td>\n",
              "      <td>0</td>\n",
              "      <td>0</td>\n",
              "      <td>0</td>\n",
              "      <td>8</td>\n",
              "    </tr>\n",
              "    <tr>\n",
              "      <th>q7</th>\n",
              "      <td>0.0</td>\n",
              "      <td>0.0</td>\n",
              "      <td>0.0</td>\n",
              "      <td>0.0</td>\n",
              "      <td>2.08</td>\n",
              "    </tr>\n",
              "    <tr>\n",
              "      <th>q8</th>\n",
              "      <td>NaN</td>\n",
              "      <td>NaN</td>\n",
              "      <td>NaN</td>\n",
              "      <td>NaN</td>\n",
              "      <td>0.69</td>\n",
              "    </tr>\n",
              "    <tr>\n",
              "      <th>q9</th>\n",
              "      <td>NaN</td>\n",
              "      <td>NaN</td>\n",
              "      <td>NaN</td>\n",
              "      <td>NaN</td>\n",
              "      <td>0.0</td>\n",
              "    </tr>\n",
              "    <tr>\n",
              "      <th>q10</th>\n",
              "      <td>NaN</td>\n",
              "      <td>NaN</td>\n",
              "      <td>NaN</td>\n",
              "      <td>NaN</td>\n",
              "      <td>2.08</td>\n",
              "    </tr>\n",
              "    <tr>\n",
              "      <th>q11</th>\n",
              "      <td>NaN</td>\n",
              "      <td>NaN</td>\n",
              "      <td>NaN</td>\n",
              "      <td>NaN</td>\n",
              "      <td>18.18</td>\n",
              "    </tr>\n",
              "    <tr>\n",
              "      <th>q12</th>\n",
              "      <td>NaN</td>\n",
              "      <td>NaN</td>\n",
              "      <td>NaN</td>\n",
              "      <td>NaN</td>\n",
              "      <td>9.09</td>\n",
              "    </tr>\n",
              "    <tr>\n",
              "      <th>q13</th>\n",
              "      <td>NaN</td>\n",
              "      <td>NaN</td>\n",
              "      <td>NaN</td>\n",
              "      <td>NaN</td>\n",
              "      <td>72.73</td>\n",
              "    </tr>\n",
              "    <tr>\n",
              "      <th>q14</th>\n",
              "      <td>7</td>\n",
              "      <td>10</td>\n",
              "      <td>9</td>\n",
              "      <td>8</td>\n",
              "      <td>10</td>\n",
              "    </tr>\n",
              "    <tr>\n",
              "      <th>q15</th>\n",
              "      <td>510.0</td>\n",
              "      <td>132.0</td>\n",
              "      <td>1792.0</td>\n",
              "      <td>283.0</td>\n",
              "      <td>663.38</td>\n",
              "    </tr>\n",
              "    <tr>\n",
              "      <th>q16a</th>\n",
              "      <td>0</td>\n",
              "      <td>0</td>\n",
              "      <td>0</td>\n",
              "      <td>0</td>\n",
              "      <td>4</td>\n",
              "    </tr>\n",
              "    <tr>\n",
              "      <th>q16b</th>\n",
              "      <td>0.0</td>\n",
              "      <td>0.0</td>\n",
              "      <td>0.0</td>\n",
              "      <td>0.0</td>\n",
              "      <td>0.353553</td>\n",
              "    </tr>\n",
              "    <tr>\n",
              "      <th>q16c</th>\n",
              "      <td>0.0</td>\n",
              "      <td>0.0</td>\n",
              "      <td>0.0</td>\n",
              "      <td>0.0</td>\n",
              "      <td>0.002073</td>\n",
              "    </tr>\n",
              "    <tr>\n",
              "      <th>q16d</th>\n",
              "      <td>3.0</td>\n",
              "      <td>1.0</td>\n",
              "      <td>3.0</td>\n",
              "      <td>5.0</td>\n",
              "      <td>4.875</td>\n",
              "    </tr>\n",
              "    <tr>\n",
              "      <th>q16e</th>\n",
              "      <td>0.013725</td>\n",
              "      <td>0.045455</td>\n",
              "      <td>0.027344</td>\n",
              "      <td>0.017668</td>\n",
              "      <td>0.022989</td>\n",
              "    </tr>\n",
              "    <tr>\n",
              "      <th>q16f</th>\n",
              "      <td>0.0</td>\n",
              "      <td>0.0</td>\n",
              "      <td>0.0</td>\n",
              "      <td>0.0</td>\n",
              "      <td>0.330719</td>\n",
              "    </tr>\n",
              "    <tr>\n",
              "      <th>q16g</th>\n",
              "      <td>0</td>\n",
              "      <td>1</td>\n",
              "      <td>1</td>\n",
              "      <td>0</td>\n",
              "      <td>2</td>\n",
              "    </tr>\n",
              "    <tr>\n",
              "      <th>q16h</th>\n",
              "      <td>0</td>\n",
              "      <td>1</td>\n",
              "      <td>1</td>\n",
              "      <td>0</td>\n",
              "      <td>6</td>\n",
              "    </tr>\n",
              "    <tr>\n",
              "      <th>q16i</th>\n",
              "      <td>0</td>\n",
              "      <td>0</td>\n",
              "      <td>0</td>\n",
              "      <td>0</td>\n",
              "      <td>0</td>\n",
              "    </tr>\n",
              "    <tr>\n",
              "      <th>q16j</th>\n",
              "      <td>0.0</td>\n",
              "      <td>0.0</td>\n",
              "      <td>0.0</td>\n",
              "      <td>0.0</td>\n",
              "      <td>1.375</td>\n",
              "    </tr>\n",
              "    <tr>\n",
              "      <th>q16k</th>\n",
              "      <td>0</td>\n",
              "      <td>0</td>\n",
              "      <td>0</td>\n",
              "      <td>0</td>\n",
              "      <td>1</td>\n",
              "    </tr>\n",
              "    <tr>\n",
              "      <th>q16l</th>\n",
              "      <td>0</td>\n",
              "      <td>0</td>\n",
              "      <td>0</td>\n",
              "      <td>0</td>\n",
              "      <td>0</td>\n",
              "    </tr>\n",
              "    <tr>\n",
              "      <th>q16m</th>\n",
              "      <td>3.0</td>\n",
              "      <td>0.0</td>\n",
              "      <td>12.0</td>\n",
              "      <td>1.0</td>\n",
              "      <td>4.5</td>\n",
              "    </tr>\n",
              "    <tr>\n",
              "      <th>q16n</th>\n",
              "      <td>0.0</td>\n",
              "      <td>0.0</td>\n",
              "      <td>1.0</td>\n",
              "      <td>0.0</td>\n",
              "      <td>0.125</td>\n",
              "    </tr>\n",
              "    <tr>\n",
              "      <th>q16o</th>\n",
              "      <td>0.0</td>\n",
              "      <td>1.0</td>\n",
              "      <td>1.0</td>\n",
              "      <td>0.0</td>\n",
              "      <td>0.75</td>\n",
              "    </tr>\n",
              "    <tr>\n",
              "      <th>q16p</th>\n",
              "      <td>0.0</td>\n",
              "      <td>0.0</td>\n",
              "      <td>1.0</td>\n",
              "      <td>0.0</td>\n",
              "      <td>1.0</td>\n",
              "    </tr>\n",
              "    <tr>\n",
              "      <th>q16q</th>\n",
              "      <td>0.0</td>\n",
              "      <td>0.0</td>\n",
              "      <td>0.0</td>\n",
              "      <td>0.0</td>\n",
              "      <td>0.192489</td>\n",
              "    </tr>\n",
              "    <tr>\n",
              "      <th>q16r</th>\n",
              "      <td>3</td>\n",
              "      <td>1</td>\n",
              "      <td>3</td>\n",
              "      <td>5</td>\n",
              "      <td>5</td>\n",
              "    </tr>\n",
              "    <tr>\n",
              "      <th>q16s</th>\n",
              "      <td>experienced</td>\n",
              "      <td>experienced</td>\n",
              "      <td>experienced</td>\n",
              "      <td>experienced</td>\n",
              "      <td>experienced</td>\n",
              "    </tr>\n",
              "    <tr>\n",
              "      <th>q16t</th>\n",
              "      <td>no</td>\n",
              "      <td>no</td>\n",
              "      <td>no</td>\n",
              "      <td>no</td>\n",
              "      <td>no</td>\n",
              "    </tr>\n",
              "    <tr>\n",
              "      <th>q16u</th>\n",
              "      <td>0.0</td>\n",
              "      <td>0.0</td>\n",
              "      <td>2.0</td>\n",
              "      <td>0.0</td>\n",
              "      <td>0.375</td>\n",
              "    </tr>\n",
              "    <tr>\n",
              "      <th>q16v</th>\n",
              "      <td>13</td>\n",
              "      <td>35</td>\n",
              "      <td>36</td>\n",
              "      <td>33</td>\n",
              "      <td>8</td>\n",
              "    </tr>\n",
              "    <tr>\n",
              "      <th>q16w</th>\n",
              "      <td>3</td>\n",
              "      <td>1</td>\n",
              "      <td>3</td>\n",
              "      <td>5</td>\n",
              "      <td>39</td>\n",
              "    </tr>\n",
              "    <tr>\n",
              "      <th>q16x</th>\n",
              "      <td>0.0</td>\n",
              "      <td>0.007576</td>\n",
              "      <td>0.001685</td>\n",
              "      <td>0.0</td>\n",
              "      <td>0.001755</td>\n",
              "    </tr>\n",
              "    <tr>\n",
              "      <th>q16y</th>\n",
              "      <td>101.0</td>\n",
              "      <td>23.0</td>\n",
              "      <td>363.0</td>\n",
              "      <td>50.0</td>\n",
              "      <td>91.072917</td>\n",
              "    </tr>\n",
              "    <tr>\n",
              "      <th>q16z</th>\n",
              "      <td>0</td>\n",
              "      <td>0</td>\n",
              "      <td>0</td>\n",
              "      <td>0</td>\n",
              "      <td>4</td>\n",
              "    </tr>\n",
              "    <tr>\n",
              "      <th>q16aa</th>\n",
              "      <td>0</td>\n",
              "      <td>0</td>\n",
              "      <td>0</td>\n",
              "      <td>0</td>\n",
              "      <td>0</td>\n",
              "    </tr>\n",
              "    <tr>\n",
              "      <th>q16ab</th>\n",
              "      <td>NaN</td>\n",
              "      <td>0.0</td>\n",
              "      <td>NaN</td>\n",
              "      <td>2.0</td>\n",
              "      <td>1.0</td>\n",
              "    </tr>\n",
              "    <tr>\n",
              "      <th>q16ac</th>\n",
              "      <td>3.0</td>\n",
              "      <td>1.0</td>\n",
              "      <td>3.0</td>\n",
              "      <td>5.0</td>\n",
              "      <td>4.875</td>\n",
              "    </tr>\n",
              "  </tbody>\n",
              "</table>\n",
              "</div>\n",
              "      <button class=\"colab-df-convert\" onclick=\"convertToInteractive('df-00bb25f1-6323-400c-89a4-f428e1539360')\"\n",
              "              title=\"Convert this dataframe to an interactive table.\"\n",
              "              style=\"display:none;\">\n",
              "        \n",
              "  <svg xmlns=\"http://www.w3.org/2000/svg\" height=\"24px\"viewBox=\"0 0 24 24\"\n",
              "       width=\"24px\">\n",
              "    <path d=\"M0 0h24v24H0V0z\" fill=\"none\"/>\n",
              "    <path d=\"M18.56 5.44l.94 2.06.94-2.06 2.06-.94-2.06-.94-.94-2.06-.94 2.06-2.06.94zm-11 1L8.5 8.5l.94-2.06 2.06-.94-2.06-.94L8.5 2.5l-.94 2.06-2.06.94zm10 10l.94 2.06.94-2.06 2.06-.94-2.06-.94-.94-2.06-.94 2.06-2.06.94z\"/><path d=\"M17.41 7.96l-1.37-1.37c-.4-.4-.92-.59-1.43-.59-.52 0-1.04.2-1.43.59L10.3 9.45l-7.72 7.72c-.78.78-.78 2.05 0 2.83L4 21.41c.39.39.9.59 1.41.59.51 0 1.02-.2 1.41-.59l7.78-7.78 2.81-2.81c.8-.78.8-2.07 0-2.86zM5.41 20L4 18.59l7.72-7.72 1.47 1.35L5.41 20z\"/>\n",
              "  </svg>\n",
              "      </button>\n",
              "      \n",
              "  <style>\n",
              "    .colab-df-container {\n",
              "      display:flex;\n",
              "      flex-wrap:wrap;\n",
              "      gap: 12px;\n",
              "    }\n",
              "\n",
              "    .colab-df-convert {\n",
              "      background-color: #E8F0FE;\n",
              "      border: none;\n",
              "      border-radius: 50%;\n",
              "      cursor: pointer;\n",
              "      display: none;\n",
              "      fill: #1967D2;\n",
              "      height: 32px;\n",
              "      padding: 0 0 0 0;\n",
              "      width: 32px;\n",
              "    }\n",
              "\n",
              "    .colab-df-convert:hover {\n",
              "      background-color: #E2EBFA;\n",
              "      box-shadow: 0px 1px 2px rgba(60, 64, 67, 0.3), 0px 1px 3px 1px rgba(60, 64, 67, 0.15);\n",
              "      fill: #174EA6;\n",
              "    }\n",
              "\n",
              "    [theme=dark] .colab-df-convert {\n",
              "      background-color: #3B4455;\n",
              "      fill: #D2E3FC;\n",
              "    }\n",
              "\n",
              "    [theme=dark] .colab-df-convert:hover {\n",
              "      background-color: #434B5C;\n",
              "      box-shadow: 0px 1px 3px 1px rgba(0, 0, 0, 0.15);\n",
              "      filter: drop-shadow(0px 1px 2px rgba(0, 0, 0, 0.3));\n",
              "      fill: #FFFFFF;\n",
              "    }\n",
              "  </style>\n",
              "\n",
              "      <script>\n",
              "        const buttonEl =\n",
              "          document.querySelector('#df-00bb25f1-6323-400c-89a4-f428e1539360 button.colab-df-convert');\n",
              "        buttonEl.style.display =\n",
              "          google.colab.kernel.accessAllowed ? 'block' : 'none';\n",
              "\n",
              "        async function convertToInteractive(key) {\n",
              "          const element = document.querySelector('#df-00bb25f1-6323-400c-89a4-f428e1539360');\n",
              "          const dataTable =\n",
              "            await google.colab.kernel.invokeFunction('convertToInteractive',\n",
              "                                                     [key], {});\n",
              "          if (!dataTable) return;\n",
              "\n",
              "          const docLinkHtml = 'Like what you see? Visit the ' +\n",
              "            '<a target=\"_blank\" href=https://colab.research.google.com/notebooks/data_table.ipynb>data table notebook</a>'\n",
              "            + ' to learn more about interactive tables.';\n",
              "          element.innerHTML = '';\n",
              "          dataTable['output_type'] = 'display_data';\n",
              "          await google.colab.output.renderOutput(dataTable, element);\n",
              "          const docLink = document.createElement('div');\n",
              "          docLink.innerHTML = docLinkHtml;\n",
              "          element.appendChild(docLink);\n",
              "        }\n",
              "      </script>\n",
              "    </div>\n",
              "  </div>\n",
              "  "
            ]
          },
          "metadata": {},
          "execution_count": 4
        }
      ]
    },
    {
      "cell_type": "markdown",
      "metadata": {
        "deletable": false,
        "editable": false,
        "nbgrader": {
          "checksum": "abffba52a1391fd598ceb32fa84a5960",
          "grade": false,
          "grade_id": "cell-91b1f66036bc756a",
          "locked": true,
          "schema_version": 1,
          "solution": false
        },
        "id": "mV9fSZv88Wfk"
      },
      "source": [
        "---"
      ]
    },
    {
      "cell_type": "markdown",
      "metadata": {
        "deletable": false,
        "editable": false,
        "nbgrader": {
          "checksum": "9a3601934d89674b0f1ddb8953f392b8",
          "grade": false,
          "grade_id": "cell-3cb43492c95c0336",
          "locked": true,
          "schema_version": 1,
          "solution": false
        },
        "id": "FyEW1omS8Wfk"
      },
      "source": [
        "### Question 1 `(1 point)`\n",
        "What is the best choice of k according to the silhouette metric for clustering q4-q6? Only consider 2 <= k <= 8. (hint: take a look at `silhouette_score`).\n",
        "\n",
        "\n",
        "**NOTE**: For features with high variance, empty clusters can occur. There are several ways of dealing with empty clusters. A common approach is to drop empty clusters. The preferred approach for this lab is to treat the empty clusters as “singletons”, leaving them empty with single point placeholders (so no need to drop anything for the purposes of the lab).\n"
      ]
    },
    {
      "cell_type": "code",
      "metadata": {
        "deletable": false,
        "nbgrader": {
          "checksum": "d870b56ad1274ceed7a8c1ad14120f4d",
          "grade": false,
          "grade_id": "cell-35daa961ef9ef163",
          "locked": false,
          "schema_version": 1,
          "solution": true
        },
        "id": "SHN499lB8Wfl",
        "colab": {
          "base_uri": "https://localhost:8080/"
        },
        "outputId": "dcbe7601-8e4e-4fc6-e553-dbd59dfc8fd6"
      },
      "source": [
        "#Make sure you return the answer value in this function.\n",
        "#The return value should be an integer.\n",
        "def q1(df):\n",
        "\n",
        "  ks = [2, 3, 4, 5, 6, 7, 8]\n",
        "  scores = []\n",
        "  x = df[['q4', 'q5', 'q6']].dropna()\n",
        "  for k in ks:\n",
        "    km = KMeans(n_clusters = k, random_state = 42)\n",
        "    km.fit(x)\n",
        "    score = silhouette_score(x, km.labels_)\n",
        "    scores.append(score)\n",
        "  return ks[scores.index(max(scores))]\n",
        "\n",
        "  raise NotImplementedError()\n",
        "  \n",
        "print(q1(df))"
      ],
      "execution_count": 5,
      "outputs": [
        {
          "output_type": "stream",
          "name": "stdout",
          "text": [
            "2\n"
          ]
        }
      ]
    },
    {
      "cell_type": "markdown",
      "metadata": {
        "deletable": false,
        "editable": false,
        "nbgrader": {
          "checksum": "9229f3626bea7238f91b319b76f8d6c1",
          "grade": false,
          "grade_id": "cell-1f4af152457c700f",
          "locked": true,
          "schema_version": 1,
          "solution": false
        },
        "id": "t1USbOiZ8Wfo"
      },
      "source": [
        "What is the best choice of k? "
      ]
    },
    {
      "cell_type": "code",
      "metadata": {
        "deletable": false,
        "nbgrader": {
          "checksum": "e686f8bb8933c06c0b80f1d3a0ab7c4c",
          "grade": true,
          "grade_id": "cell-75f42d06e03fe139",
          "locked": false,
          "points": 1,
          "schema_version": 1,
          "solution": true
        },
        "id": "IiP-7-BI8Wfp",
        "colab": {
          "base_uri": "https://localhost:8080/"
        },
        "outputId": "07aadfc9-af56-40ea-f9a2-b3a832e90002"
      },
      "source": [
        "2"
      ],
      "execution_count": 6,
      "outputs": [
        {
          "output_type": "execute_result",
          "data": {
            "text/plain": [
              "2"
            ]
          },
          "metadata": {},
          "execution_count": 6
        }
      ]
    },
    {
      "cell_type": "markdown",
      "metadata": {
        "deletable": false,
        "editable": false,
        "nbgrader": {
          "checksum": "4d1db294cd60c6368ab7f1cc287ac861",
          "grade": false,
          "grade_id": "cell-3f1e7c00e311da4b",
          "locked": true,
          "schema_version": 1,
          "solution": false
        },
        "id": "nR7L0bqm8Wft"
      },
      "source": [
        "### Question 2 `(1 point)`\n",
        "What is the best choice of k according to the silhouette metric for clustering q7-q10? Only consider 2 <= k <= 8. \n",
        "\n",
        "**Note:** The missing values from q7-q10 mainly stem from the result of taking the logarithms of q3-q7, which when taking the log of 0, will result in a `NaN` value. So, to properly clean this data, we will find the subset of data specified for this question (q7-q10), and then replace the `NaN` values with 0's."
      ]
    },
    {
      "cell_type": "code",
      "metadata": {
        "deletable": false,
        "nbgrader": {
          "checksum": "9cf8b96c08dc833c7b88ee35362ed959",
          "grade": false,
          "grade_id": "cell-dc62c66cc9acf621",
          "locked": false,
          "schema_version": 1,
          "solution": true
        },
        "id": "Jv9s-92L8Wft",
        "colab": {
          "base_uri": "https://localhost:8080/"
        },
        "outputId": "aa088355-de42-4cfb-a6f2-e0e22b73bae4"
      },
      "source": [
        "#Make sure you return the answer value in this function.\n",
        "#The return value should be an integer.\n",
        "def q2(df):\n",
        "\n",
        "  ks = [2, 3, 4, 5, 6, 7, 8]\n",
        "  scores = []\n",
        "  x = df[['q7', 'q8', 'q9', 'q10']].dropna()\n",
        "  for k in ks:\n",
        "    km = KMeans(n_clusters = k, random_state = 42)\n",
        "    km.fit(x)\n",
        "    score = silhouette_score(x, km.labels_)\n",
        "    scores.append(score)\n",
        "  return ks[scores.index(max(scores))]\n",
        "  raise NotImplementedError()\n",
        "\n",
        "print(q2(df))"
      ],
      "execution_count": 7,
      "outputs": [
        {
          "output_type": "stream",
          "name": "stdout",
          "text": [
            "2\n"
          ]
        }
      ]
    },
    {
      "cell_type": "markdown",
      "metadata": {
        "deletable": false,
        "editable": false,
        "nbgrader": {
          "checksum": "13a5d949504f1ed6dbf3bf474d135175",
          "grade": false,
          "grade_id": "cell-a798fe1067889c85",
          "locked": true,
          "schema_version": 1,
          "solution": false
        },
        "id": "ohkPzjsf8Wfz"
      },
      "source": [
        "What is the best choice of k? "
      ]
    },
    {
      "cell_type": "code",
      "metadata": {
        "deletable": false,
        "nbgrader": {
          "checksum": "39518f72ac99d22c2be6e053d683ecb3",
          "grade": true,
          "grade_id": "cell-b9c0fc321a251e1e",
          "locked": false,
          "points": 0.5,
          "schema_version": 1,
          "solution": true
        },
        "id": "WwlzPYjj8Wf0",
        "colab": {
          "base_uri": "https://localhost:8080/"
        },
        "outputId": "8ad88d92-f4b0-487e-dad6-29d4db6bafd4"
      },
      "source": [
        "2"
      ],
      "execution_count": 8,
      "outputs": [
        {
          "output_type": "execute_result",
          "data": {
            "text/plain": [
              "2"
            ]
          },
          "metadata": {},
          "execution_count": 8
        }
      ]
    },
    {
      "cell_type": "markdown",
      "metadata": {
        "deletable": false,
        "editable": false,
        "nbgrader": {
          "checksum": "685cbed1a7666b907cfd74876798b246",
          "grade": false,
          "grade_id": "cell-abc5d1274688008b",
          "locked": true,
          "schema_version": 1,
          "solution": false
        },
        "id": "QW6AW5SN8Wf3"
      },
      "source": [
        "### Question 3 `(1 point)`\n",
        "What is the best choice of k according to the silhouette metric for clustering q11-q13? Only consider 2 <= k <= 8. \n",
        "\n",
        "**Note:** Keep in mind, there may be missing values in this part of the dataset! For these missing values, first find the subset of data specified for this question (q11-q13), then drop rows that have missing values."
      ]
    },
    {
      "cell_type": "code",
      "metadata": {
        "deletable": false,
        "nbgrader": {
          "checksum": "79b98812400934790474017de005b61b",
          "grade": false,
          "grade_id": "cell-fa2944f22a609780",
          "locked": false,
          "schema_version": 1,
          "solution": true
        },
        "id": "FU0QGeDx8Wf6",
        "colab": {
          "base_uri": "https://localhost:8080/"
        },
        "outputId": "ff7bb3dd-c697-4f63-c012-56dace2b35f3"
      },
      "source": [
        "#Make sure you return the answer value in this function.\n",
        "#The return value should be an integer.\n",
        "def q3(df):\n",
        "  \n",
        "  ks = [2, 3, 4, 5, 6, 7, 8]\n",
        "  scores = []\n",
        "  x = df[['q11', 'q12', 'q13']].dropna()\n",
        "  for k in ks:\n",
        "    km = KMeans(n_clusters = k, random_state = 42)\n",
        "    km.fit(x)\n",
        "    score = silhouette_score(x, km.labels_)\n",
        "    scores.append(score)\n",
        "  return ks[scores.index(max(scores))]\n",
        "  raise NotImplementedError()\n",
        "\n",
        "print(q3(df))"
      ],
      "execution_count": 9,
      "outputs": [
        {
          "output_type": "stream",
          "name": "stdout",
          "text": [
            "8\n"
          ]
        }
      ]
    },
    {
      "cell_type": "markdown",
      "metadata": {
        "deletable": false,
        "editable": false,
        "nbgrader": {
          "checksum": "7f1e4d9e7bc46ed5b72756983c3ea7d1",
          "grade": false,
          "grade_id": "cell-ffde459d3d7f30d4",
          "locked": true,
          "schema_version": 1,
          "solution": false
        },
        "id": "Y-5NyKXZ8Wf_"
      },
      "source": [
        "What is the best choice of k?"
      ]
    },
    {
      "cell_type": "code",
      "metadata": {
        "deletable": false,
        "nbgrader": {
          "checksum": "286a814a2fc12cff437655784716f2d7",
          "grade": true,
          "grade_id": "cell-dd60c729c46b5610",
          "locked": false,
          "points": 0.5,
          "schema_version": 1,
          "solution": true
        },
        "id": "AZfZebXo8WgB",
        "colab": {
          "base_uri": "https://localhost:8080/"
        },
        "outputId": "6fa4864c-1f7c-4e0a-c178-06820429109d"
      },
      "source": [
        "8"
      ],
      "execution_count": 10,
      "outputs": [
        {
          "output_type": "execute_result",
          "data": {
            "text/plain": [
              "8"
            ]
          },
          "metadata": {},
          "execution_count": 10
        }
      ]
    },
    {
      "cell_type": "markdown",
      "metadata": {
        "deletable": false,
        "editable": false,
        "nbgrader": {
          "checksum": "a18ebc832af60a47193b79496235a06c",
          "grade": false,
          "grade_id": "cell-3bf4719c7aa218c6",
          "locked": true,
          "schema_version": 1,
          "solution": false
        },
        "id": "aQMzO6nF8WgJ"
      },
      "source": [
        "### Question 4 `(1 point)`\n",
        "Take the best clustering (i.e., best value of K) from Question 3 and using the same subset of data from q11-q13, list the number of data points in each cluster. Return your answer in dictionary form (i.e. `ans = {0: 100, 1: 200, ...}`)."
      ]
    },
    {
      "cell_type": "code",
      "metadata": {
        "deletable": false,
        "nbgrader": {
          "checksum": "cc9c33b42265e3a41d8fefb18770a4e8",
          "grade": false,
          "grade_id": "cell-24fde636c2f83a67",
          "locked": false,
          "schema_version": 1,
          "solution": true
        },
        "id": "ztW4Dgbc8WgN"
      },
      "source": [
        "#Make sure you return the answer value in this function.\n",
        "#The return value should be an dictionary. Eg : {0:1000,1:500,2:1460}.\n",
        "from collections import Counter, defaultdict\n",
        "def q4(df):\n",
        "  x = df[[\"q11\", \"q12\", \"q13\"]].dropna()\n",
        "  km = KMeans(n_clusters=8, random_state = 42)\n",
        "  km.fit(x)\n",
        "  return Counter(km.labels_)\n",
        "  \n",
        "  # YOUR CODE HERE\n",
        "  raise NotImplementedError()"
      ],
      "execution_count": 11,
      "outputs": []
    },
    {
      "cell_type": "code",
      "metadata": {
        "deletable": false,
        "editable": false,
        "nbgrader": {
          "checksum": "99637ce263f2207d1701716f5f1f44ca",
          "grade": true,
          "grade_id": "cell-2deca552fa9f803f",
          "locked": true,
          "points": 1,
          "schema_version": 1,
          "solution": false
        },
        "id": "iIUdLPIw8WgQ",
        "colab": {
          "base_uri": "https://localhost:8080/"
        },
        "outputId": "6a41d98b-b44b-4329-a259-c8596f1eea56"
      },
      "source": [
        "#This is an graded cell, do not edit\n",
        "print(q4(df))"
      ],
      "execution_count": 12,
      "outputs": [
        {
          "output_type": "stream",
          "name": "stdout",
          "text": [
            "Counter({2: 9962, 4: 4483, 7: 4251, 5: 3434, 1: 3064, 0: 2055, 6: 1632, 3: 1228})\n"
          ]
        }
      ]
    },
    {
      "cell_type": "markdown",
      "metadata": {
        "deletable": false,
        "editable": false,
        "nbgrader": {
          "checksum": "f455a94d03bf20a31ce26a2da672ee98",
          "grade": false,
          "grade_id": "cell-4277f89074807c16",
          "locked": true,
          "schema_version": 1,
          "solution": false
        },
        "id": "xgii61fI8WgT"
      },
      "source": [
        "### Question 5 `(1 point)`\n",
        "Consider the best clustering from Question 3. Were there clusters that represented very funny but useless reviewers (check column definitions for columns corresponding to funny, useless, etc.)?  If so, print the center of that cluster."
      ]
    },
    {
      "cell_type": "code",
      "metadata": {
        "deletable": false,
        "nbgrader": {
          "checksum": "d2664de57a82a4d02c7d529617a1450c",
          "grade": false,
          "grade_id": "cell-550e8e6942843343",
          "locked": false,
          "schema_version": 1,
          "solution": true
        },
        "id": "_XzB8j6f8WgU"
      },
      "source": [
        "#Make sure you return the answer value in this function.\n",
        "#The return value should be a list. Eg : [10, 30, 54].\n",
        "def q5(df):\n",
        "  x = df[[\"q11\", \"q12\", \"q13\"]].dropna()\n",
        "  km = KMeans(n_clusters=8, random_state = 42)\n",
        "  km.fit(x)\n",
        "  return km.cluster_centers_[6]\n",
        "  # YOUR CODE HERE\n",
        "  raise NotImplementedError()"
      ],
      "execution_count": 13,
      "outputs": []
    },
    {
      "cell_type": "code",
      "metadata": {
        "deletable": false,
        "editable": false,
        "nbgrader": {
          "checksum": "36e1fb3627b616460376cfe2db01762c",
          "grade": true,
          "grade_id": "cell-5c9ad8f64f9e3cb9",
          "locked": true,
          "points": 1,
          "schema_version": 1,
          "solution": false
        },
        "id": "g22ke0I48WgX",
        "colab": {
          "base_uri": "https://localhost:8080/"
        },
        "outputId": "6e7d6485-d342-4e34-8891-07c6d3e5258f"
      },
      "source": [
        "#This is a graded cell, do not edit\n",
        "print(np.round_(q5(df), decimals=1, out=None))"
      ],
      "execution_count": 14,
      "outputs": [
        {
          "output_type": "stream",
          "name": "stdout",
          "text": [
            "[ 1.1 98.3  0.6]\n"
          ]
        }
      ]
    },
    {
      "cell_type": "markdown",
      "metadata": {
        "deletable": false,
        "editable": false,
        "nbgrader": {
          "checksum": "423fac1c99ce7c9090dd9e96e6778777",
          "grade": false,
          "grade_id": "cell-303792a4ac61cb3a",
          "locked": true,
          "schema_version": 1,
          "solution": false
        },
        "id": "U2yg2Z2_8Wgd"
      },
      "source": [
        "### Question 6 `(1 point)`\n",
        "Consider the best clustering from Question 3. What was the centroid of the cluster that represented relatively uniform strength in all voting categories?"
      ]
    },
    {
      "cell_type": "code",
      "metadata": {
        "deletable": false,
        "nbgrader": {
          "checksum": "9b6ebc1ed5ed8d8042dcf7cd49952b57",
          "grade": false,
          "grade_id": "cell-391c7439f978dff8",
          "locked": false,
          "schema_version": 1,
          "solution": true
        },
        "id": "94isPDi08Wgf"
      },
      "source": [
        "#Make sure you return the answer value in this function.\n",
        "#The return value should be a centroid in list form. Eg : [10, 10.5, 13].\n",
        "def q6(df):\n",
        "  x = df[[\"q11\", \"q12\", \"q13\"]].dropna()\n",
        "  km = KMeans(n_clusters=8, random_state = 42)\n",
        "  km.fit(x)\n",
        "  print(km.cluster_centers_)\n",
        "  return 24.31256856\n",
        "  raise NotImplementedError()"
      ],
      "execution_count": 15,
      "outputs": []
    },
    {
      "cell_type": "code",
      "metadata": {
        "deletable": false,
        "editable": false,
        "nbgrader": {
          "checksum": "cfcf6b7a02a8426368b49ab70898113b",
          "grade": true,
          "grade_id": "cell-4a75c628cdd62ed3",
          "locked": true,
          "points": 1,
          "schema_version": 1,
          "solution": false
        },
        "id": "GKePHYay8Wgl",
        "colab": {
          "base_uri": "https://localhost:8080/"
        },
        "outputId": "ad49a0c0-2e93-479e-ee47-38ba8d8d6556"
      },
      "source": [
        "#This is a graded cell, do not edit\n",
        "print(q6(df))"
      ],
      "execution_count": 16,
      "outputs": [
        {
          "output_type": "stream",
          "name": "stdout",
          "text": [
            "[[ 3.22372749 52.6463163  44.13010706]\n",
            " [26.65194971  3.35620509 69.99171457]\n",
            " [ 0.30151074  0.41439068 99.28407749]\n",
            " [98.15302932  0.96006515  0.88692182]\n",
            " [14.77627648 24.31256856 60.91198216]\n",
            " [47.56644166  3.80018912 48.6333343 ]\n",
            " [ 1.13148897 98.30148897  0.56707721]\n",
            " [33.32621234 32.8740678  33.79618409]]\n",
            "24.31256856\n"
          ]
        }
      ]
    },
    {
      "cell_type": "markdown",
      "metadata": {
        "deletable": false,
        "editable": false,
        "nbgrader": {
          "checksum": "7277b47e7131491c1b5bc8487bc7f848",
          "grade": false,
          "grade_id": "cell-b29200abdbf3f648",
          "locked": true,
          "schema_version": 1,
          "solution": false
        },
        "id": "BlCXYH7J8Wgp"
      },
      "source": [
        "### Question 7 `(1 point)`\n",
        "Cluster the dataset using $k = 5$ and using features q7-q15 (refer to the column descriptions if needed).\n",
        "What is the silhouette metric for this clustering?\n",
        "For a more in-depth understanding of cluster analysis with silhouette, look [here](http://scikit-learn.org/stable/auto_examples/cluster/plot_kmeans_silhouette_analysis.html).\n",
        "\n",
        "Drop/replace missing values for q7-q15 as you have done in previous questions. For q14-q15, feel free to drop rows that have `NaN` values."
      ]
    },
    {
      "cell_type": "code",
      "metadata": {
        "deletable": false,
        "nbgrader": {
          "checksum": "aadc8b4d3daea84bcdf7326f7d9e1e48",
          "grade": false,
          "grade_id": "cell-692872a9776a2f81",
          "locked": false,
          "schema_version": 1,
          "solution": true
        },
        "id": "P5AW-1Hj8Wgq"
      },
      "source": [
        "#Make sure you return the answer value in this function.\n",
        "#The return value should be a float.\n",
        "def q7(df):\n",
        "  x = df[['q7', 'q8', 'q9', 'q10', 'q11', 'q12', 'q13', 'q14', 'q15']].dropna()\n",
        "  km = KMeans(n_clusters = 5, random_state = 42)\n",
        "  km.fit(x)\n",
        "  score = silhouette_score(x, km.labels_)\n",
        "  return score\n",
        "  # YOUR CODE HERE\n",
        "  raise NotImplementedError()"
      ],
      "execution_count": 17,
      "outputs": []
    },
    {
      "cell_type": "code",
      "metadata": {
        "deletable": false,
        "editable": false,
        "nbgrader": {
          "checksum": "7c847dc80333efefec63b12bce9a3c23",
          "grade": true,
          "grade_id": "cell-d5a3ed8462b9b40b",
          "locked": true,
          "points": 1,
          "schema_version": 1,
          "solution": false
        },
        "id": "Kx23kyP18Wgw",
        "colab": {
          "base_uri": "https://localhost:8080/"
        },
        "outputId": "ee98052c-8db1-4f1a-bf2a-c910f7b547c2"
      },
      "source": [
        "#This is a graded cell, do not edit\n",
        "print(q7(df))"
      ],
      "execution_count": 18,
      "outputs": [
        {
          "output_type": "stream",
          "name": "stdout",
          "text": [
            "0.5481158706623568\n"
          ]
        }
      ]
    },
    {
      "cell_type": "markdown",
      "metadata": {
        "deletable": false,
        "editable": false,
        "nbgrader": {
          "checksum": "b5206e977bdec3a2a2da9a55d42539e1",
          "grade": false,
          "grade_id": "cell-bb20d152047de4c0",
          "locked": true,
          "schema_version": 1,
          "solution": false
        },
        "id": "ghXtWRlm8Wg1"
      },
      "source": [
        "### Question 8 `(1 point)`\n",
        "Cluster the dataset using $k = 5$ and using features q7-q15 (refer to the column descriptions if needed). Drop/replace missing values as you have done before.\n",
        "\n",
        "What is the average q3 value in each of the clusters?"
      ]
    },
    {
      "cell_type": "code",
      "metadata": {
        "deletable": false,
        "nbgrader": {
          "checksum": "cec8fcc62994a8c42d2a828240cf8d70",
          "grade": false,
          "grade_id": "cell-ce75d2c2b37a5939",
          "locked": false,
          "schema_version": 1,
          "solution": true
        },
        "id": "7VLNa7ZT8Wg2"
      },
      "source": [
        "#Make sure you return the answer value in this function.\n",
        "#The return value should be an Array. Eg : [10, 30, 54].\n",
        "def q8(df):\n",
        "  x = df[['q7', 'q8', 'q9', 'q10', 'q11', 'q12', 'q13', 'q14', 'q15']].dropna()\n",
        "  km = KMeans(n_clusters = 5, random_state = 42)\n",
        "  km.fit(x)\n",
        "  x[\"id\"] = km.labels_\n",
        "  df2 = df[[\"q3\", \"q15\"]]\n",
        "  y = pd.merge(x, df2, how=\"left\", on=\"q15\")\n",
        "  means = y.groupby(\"id\").mean()\n",
        "  return np.array(means[\"q3\"])\n",
        "  # YOUR CODE HERE\n",
        "  raise NotImplementedError()"
      ],
      "execution_count": 19,
      "outputs": []
    },
    {
      "cell_type": "code",
      "metadata": {
        "deletable": false,
        "editable": false,
        "nbgrader": {
          "checksum": "8fcac0a1587052a68abfd2dc22e6a444",
          "grade": true,
          "grade_id": "cell-125a523ba764c027",
          "locked": true,
          "points": 1,
          "schema_version": 1,
          "solution": false
        },
        "id": "uU1zA9hQ8Wg7",
        "colab": {
          "base_uri": "https://localhost:8080/"
        },
        "outputId": "b677f47d-2e0b-4e22-cb74-512b7c8f409d"
      },
      "source": [
        "#This is a graded cell, do not edit\n",
        "print(np.round_(q8(df), decimals=1, out=None))"
      ],
      "execution_count": 20,
      "outputs": [
        {
          "output_type": "stream",
          "name": "stdout",
          "text": [
            "[2.2 2.9 3.6 2.2 3.6]\n"
          ]
        }
      ]
    },
    {
      "cell_type": "markdown",
      "metadata": {
        "deletable": false,
        "editable": false,
        "nbgrader": {
          "checksum": "539014b1c77f0d5159b9158216999ffa",
          "grade": false,
          "grade_id": "cell-32dc52f985a4469b",
          "locked": true,
          "schema_version": 1,
          "solution": false
        },
        "id": "ImMBccCv8WhE"
      },
      "source": [
        "### Question 9 `(2 points)`\n",
        "\n",
        "We will now cluster the dataset using all features in the dataset.\n",
        "\n",
        "We can drop features with high incidents of `-inf` / `NaN` / blank values. We will also perform some form of normalization on these features so as not to over bias the clustering towards the larger magnitude features. \n",
        "\n",
        "Let's go ahead and get started."
      ]
    },
    {
      "cell_type": "markdown",
      "source": [
        "\n",
        "#### Data Cleansing and Normalization ####\n",
        "**Check how many null values there are in each column.**"
      ],
      "metadata": {
        "id": "retvc8Yzp60D"
      }
    },
    {
      "cell_type": "code",
      "metadata": {
        "deletable": false,
        "editable": false,
        "nbgrader": {
          "checksum": "26c5eee0748fe77d6f219f2f654adc69",
          "grade": false,
          "grade_id": "cell-00e25d9828db774a",
          "locked": true,
          "schema_version": 1,
          "solution": false
        },
        "id": "vdt07lvl8WhH",
        "colab": {
          "base_uri": "https://localhost:8080/"
        },
        "outputId": "7ed9d14d-0711-45ea-8b5e-9bc325af68bf"
      },
      "source": [
        "df.isna().sum()"
      ],
      "execution_count": 21,
      "outputs": [
        {
          "output_type": "execute_result",
          "data": {
            "text/plain": [
              "user_id        0\n",
              "q3             0\n",
              "q4             0\n",
              "q5             0\n",
              "q6             0\n",
              "q7             0\n",
              "q8         35280\n",
              "q9         36743\n",
              "q10        24338\n",
              "q11        21383\n",
              "q12        21383\n",
              "q13        21383\n",
              "q14            0\n",
              "q15            0\n",
              "q16a           0\n",
              "q16b           0\n",
              "q16c           0\n",
              "q16d           0\n",
              "q16e           0\n",
              "q16f           0\n",
              "q16g           0\n",
              "q16h           0\n",
              "q16i           0\n",
              "q16j           0\n",
              "q16k           0\n",
              "q16l           0\n",
              "q16m           0\n",
              "q16n           0\n",
              "q16o           0\n",
              "q16p           0\n",
              "q16q           0\n",
              "q16r           0\n",
              "q16s           0\n",
              "q16t           0\n",
              "q16u           0\n",
              "q16v           0\n",
              "q16w           0\n",
              "q16x           0\n",
              "q16y           0\n",
              "q16z           0\n",
              "q16aa          0\n",
              "q16ab      14469\n",
              "q16ac          0\n",
              "dtype: int64"
            ]
          },
          "metadata": {},
          "execution_count": 21
        }
      ]
    },
    {
      "cell_type": "markdown",
      "metadata": {
        "deletable": false,
        "editable": false,
        "nbgrader": {
          "checksum": "059796c35a25a2239b6af643d573077c",
          "grade": false,
          "grade_id": "cell-dda1709aadca4b74",
          "locked": true,
          "schema_version": 1,
          "solution": false
        },
        "id": "yzAo6QRS8WhO"
      },
      "source": [
        "It looks like q8 - q13 and q16ab have a lot of null values. Let's see what the impact is of removing the two columns with the most null values.\n",
        "\n",
        "**Drop the two columns with the most NaN values, and then remove all rows with NaN values remaining.**"
      ]
    },
    {
      "cell_type": "code",
      "metadata": {
        "deletable": false,
        "editable": false,
        "nbgrader": {
          "checksum": "c9201f034d5527471e11c4bdf4259a06",
          "grade": false,
          "grade_id": "cell-e67e9b14f016567d",
          "locked": true,
          "schema_version": 1,
          "solution": false
        },
        "id": "pSrZ9i3g8WhQ",
        "colab": {
          "base_uri": "https://localhost:8080/"
        },
        "outputId": "994fee38-fdec-4aac-9f7a-704f83957f85"
      },
      "source": [
        "print(df.dropna().shape)\n",
        "print(df.drop(columns=[\"q8\", \"q9\"]).dropna().shape)"
      ],
      "execution_count": 22,
      "outputs": [
        {
          "output_type": "stream",
          "name": "stdout",
          "text": [
            "(7177, 43)\n",
            "(19582, 41)\n"
          ]
        }
      ]
    },
    {
      "cell_type": "markdown",
      "metadata": {
        "deletable": false,
        "editable": false,
        "nbgrader": {
          "checksum": "55ec19beab75bcb01d51763aa77b7c7d",
          "grade": false,
          "grade_id": "cell-0832f08869a19534",
          "locked": true,
          "schema_version": 1,
          "solution": false
        },
        "id": "gQbRuq_Z8Whb"
      },
      "source": [
        "By removing two features, we have effectively doubled the number of rows remaining than if we just removed all rows with a NaN value. That's pretty good.  \n",
        "\n",
        "Now, let's preprocess categorical variables into dummy variables. (hint: look at `pd.get_dummies`)."
      ]
    },
    {
      "cell_type": "code",
      "source": [
        "nona = pd.get_dummies(df, columns = [\"q8\", \"q9\"]).dropna()\n",
        "nona.head()"
      ],
      "metadata": {
        "id": "TuE4zwIBzDGZ",
        "colab": {
          "base_uri": "https://localhost:8080/",
          "height": 236
        },
        "outputId": "6b376b36-d8f1-456c-821d-1af7a1019f73"
      },
      "execution_count": 23,
      "outputs": [
        {
          "output_type": "execute_result",
          "data": {
            "text/plain": [
              "                      user_id  q3  q4  q5  q6    q7   q10    q11    q12  \\\n",
              "47453  Gd_IGX3BmRYbPD84ovLEoA   8   2   1   8  2.08  2.08  18.18   9.09   \n",
              "53000  Ihx1EQHDTIoXM35Cc08r2Q   2   1   1   2  0.69  0.69  25.00  25.00   \n",
              "64580  N22hkNXzJdz_v_KocOy6vA   1   0   0   1  0.00  0.00   0.00   0.00   \n",
              "84662  UZ2TflixHLqkCL9G6ykCNw   5   0   0   4  1.61  1.39   0.00   0.00   \n",
              "50079  HcL7R7ingTW8nenpD3X2cg   8   8   5  13  2.08  2.56  30.77  19.23   \n",
              "\n",
              "          q13  ...  q9_5.36  q9_5.47  q9_5.48  q9_5.51  q9_5.56  q9_5.58  \\\n",
              "47453   72.73  ...        0        0        0        0        0        0   \n",
              "53000   50.00  ...        0        0        0        0        0        0   \n",
              "64580  100.00  ...        0        0        0        0        0        0   \n",
              "84662  100.00  ...        0        0        0        0        0        0   \n",
              "50079   50.00  ...        0        0        0        0        0        0   \n",
              "\n",
              "       q9_5.77  q9_6.14  q9_6.16  q9_7.06  \n",
              "47453        0        0        0        0  \n",
              "53000        0        0        0        0  \n",
              "64580        0        0        0        0  \n",
              "84662        0        0        0        0  \n",
              "50079        0        0        0        0  \n",
              "\n",
              "[5 rows x 284 columns]"
            ],
            "text/html": [
              "\n",
              "  <div id=\"df-718440fa-1d58-41c0-bb9c-c20d96174c5b\">\n",
              "    <div class=\"colab-df-container\">\n",
              "      <div>\n",
              "<style scoped>\n",
              "    .dataframe tbody tr th:only-of-type {\n",
              "        vertical-align: middle;\n",
              "    }\n",
              "\n",
              "    .dataframe tbody tr th {\n",
              "        vertical-align: top;\n",
              "    }\n",
              "\n",
              "    .dataframe thead th {\n",
              "        text-align: right;\n",
              "    }\n",
              "</style>\n",
              "<table border=\"1\" class=\"dataframe\">\n",
              "  <thead>\n",
              "    <tr style=\"text-align: right;\">\n",
              "      <th></th>\n",
              "      <th>user_id</th>\n",
              "      <th>q3</th>\n",
              "      <th>q4</th>\n",
              "      <th>q5</th>\n",
              "      <th>q6</th>\n",
              "      <th>q7</th>\n",
              "      <th>q10</th>\n",
              "      <th>q11</th>\n",
              "      <th>q12</th>\n",
              "      <th>q13</th>\n",
              "      <th>...</th>\n",
              "      <th>q9_5.36</th>\n",
              "      <th>q9_5.47</th>\n",
              "      <th>q9_5.48</th>\n",
              "      <th>q9_5.51</th>\n",
              "      <th>q9_5.56</th>\n",
              "      <th>q9_5.58</th>\n",
              "      <th>q9_5.77</th>\n",
              "      <th>q9_6.14</th>\n",
              "      <th>q9_6.16</th>\n",
              "      <th>q9_7.06</th>\n",
              "    </tr>\n",
              "  </thead>\n",
              "  <tbody>\n",
              "    <tr>\n",
              "      <th>47453</th>\n",
              "      <td>Gd_IGX3BmRYbPD84ovLEoA</td>\n",
              "      <td>8</td>\n",
              "      <td>2</td>\n",
              "      <td>1</td>\n",
              "      <td>8</td>\n",
              "      <td>2.08</td>\n",
              "      <td>2.08</td>\n",
              "      <td>18.18</td>\n",
              "      <td>9.09</td>\n",
              "      <td>72.73</td>\n",
              "      <td>...</td>\n",
              "      <td>0</td>\n",
              "      <td>0</td>\n",
              "      <td>0</td>\n",
              "      <td>0</td>\n",
              "      <td>0</td>\n",
              "      <td>0</td>\n",
              "      <td>0</td>\n",
              "      <td>0</td>\n",
              "      <td>0</td>\n",
              "      <td>0</td>\n",
              "    </tr>\n",
              "    <tr>\n",
              "      <th>53000</th>\n",
              "      <td>Ihx1EQHDTIoXM35Cc08r2Q</td>\n",
              "      <td>2</td>\n",
              "      <td>1</td>\n",
              "      <td>1</td>\n",
              "      <td>2</td>\n",
              "      <td>0.69</td>\n",
              "      <td>0.69</td>\n",
              "      <td>25.00</td>\n",
              "      <td>25.00</td>\n",
              "      <td>50.00</td>\n",
              "      <td>...</td>\n",
              "      <td>0</td>\n",
              "      <td>0</td>\n",
              "      <td>0</td>\n",
              "      <td>0</td>\n",
              "      <td>0</td>\n",
              "      <td>0</td>\n",
              "      <td>0</td>\n",
              "      <td>0</td>\n",
              "      <td>0</td>\n",
              "      <td>0</td>\n",
              "    </tr>\n",
              "    <tr>\n",
              "      <th>64580</th>\n",
              "      <td>N22hkNXzJdz_v_KocOy6vA</td>\n",
              "      <td>1</td>\n",
              "      <td>0</td>\n",
              "      <td>0</td>\n",
              "      <td>1</td>\n",
              "      <td>0.00</td>\n",
              "      <td>0.00</td>\n",
              "      <td>0.00</td>\n",
              "      <td>0.00</td>\n",
              "      <td>100.00</td>\n",
              "      <td>...</td>\n",
              "      <td>0</td>\n",
              "      <td>0</td>\n",
              "      <td>0</td>\n",
              "      <td>0</td>\n",
              "      <td>0</td>\n",
              "      <td>0</td>\n",
              "      <td>0</td>\n",
              "      <td>0</td>\n",
              "      <td>0</td>\n",
              "      <td>0</td>\n",
              "    </tr>\n",
              "    <tr>\n",
              "      <th>84662</th>\n",
              "      <td>UZ2TflixHLqkCL9G6ykCNw</td>\n",
              "      <td>5</td>\n",
              "      <td>0</td>\n",
              "      <td>0</td>\n",
              "      <td>4</td>\n",
              "      <td>1.61</td>\n",
              "      <td>1.39</td>\n",
              "      <td>0.00</td>\n",
              "      <td>0.00</td>\n",
              "      <td>100.00</td>\n",
              "      <td>...</td>\n",
              "      <td>0</td>\n",
              "      <td>0</td>\n",
              "      <td>0</td>\n",
              "      <td>0</td>\n",
              "      <td>0</td>\n",
              "      <td>0</td>\n",
              "      <td>0</td>\n",
              "      <td>0</td>\n",
              "      <td>0</td>\n",
              "      <td>0</td>\n",
              "    </tr>\n",
              "    <tr>\n",
              "      <th>50079</th>\n",
              "      <td>HcL7R7ingTW8nenpD3X2cg</td>\n",
              "      <td>8</td>\n",
              "      <td>8</td>\n",
              "      <td>5</td>\n",
              "      <td>13</td>\n",
              "      <td>2.08</td>\n",
              "      <td>2.56</td>\n",
              "      <td>30.77</td>\n",
              "      <td>19.23</td>\n",
              "      <td>50.00</td>\n",
              "      <td>...</td>\n",
              "      <td>0</td>\n",
              "      <td>0</td>\n",
              "      <td>0</td>\n",
              "      <td>0</td>\n",
              "      <td>0</td>\n",
              "      <td>0</td>\n",
              "      <td>0</td>\n",
              "      <td>0</td>\n",
              "      <td>0</td>\n",
              "      <td>0</td>\n",
              "    </tr>\n",
              "  </tbody>\n",
              "</table>\n",
              "<p>5 rows × 284 columns</p>\n",
              "</div>\n",
              "      <button class=\"colab-df-convert\" onclick=\"convertToInteractive('df-718440fa-1d58-41c0-bb9c-c20d96174c5b')\"\n",
              "              title=\"Convert this dataframe to an interactive table.\"\n",
              "              style=\"display:none;\">\n",
              "        \n",
              "  <svg xmlns=\"http://www.w3.org/2000/svg\" height=\"24px\"viewBox=\"0 0 24 24\"\n",
              "       width=\"24px\">\n",
              "    <path d=\"M0 0h24v24H0V0z\" fill=\"none\"/>\n",
              "    <path d=\"M18.56 5.44l.94 2.06.94-2.06 2.06-.94-2.06-.94-.94-2.06-.94 2.06-2.06.94zm-11 1L8.5 8.5l.94-2.06 2.06-.94-2.06-.94L8.5 2.5l-.94 2.06-2.06.94zm10 10l.94 2.06.94-2.06 2.06-.94-2.06-.94-.94-2.06-.94 2.06-2.06.94z\"/><path d=\"M17.41 7.96l-1.37-1.37c-.4-.4-.92-.59-1.43-.59-.52 0-1.04.2-1.43.59L10.3 9.45l-7.72 7.72c-.78.78-.78 2.05 0 2.83L4 21.41c.39.39.9.59 1.41.59.51 0 1.02-.2 1.41-.59l7.78-7.78 2.81-2.81c.8-.78.8-2.07 0-2.86zM5.41 20L4 18.59l7.72-7.72 1.47 1.35L5.41 20z\"/>\n",
              "  </svg>\n",
              "      </button>\n",
              "      \n",
              "  <style>\n",
              "    .colab-df-container {\n",
              "      display:flex;\n",
              "      flex-wrap:wrap;\n",
              "      gap: 12px;\n",
              "    }\n",
              "\n",
              "    .colab-df-convert {\n",
              "      background-color: #E8F0FE;\n",
              "      border: none;\n",
              "      border-radius: 50%;\n",
              "      cursor: pointer;\n",
              "      display: none;\n",
              "      fill: #1967D2;\n",
              "      height: 32px;\n",
              "      padding: 0 0 0 0;\n",
              "      width: 32px;\n",
              "    }\n",
              "\n",
              "    .colab-df-convert:hover {\n",
              "      background-color: #E2EBFA;\n",
              "      box-shadow: 0px 1px 2px rgba(60, 64, 67, 0.3), 0px 1px 3px 1px rgba(60, 64, 67, 0.15);\n",
              "      fill: #174EA6;\n",
              "    }\n",
              "\n",
              "    [theme=dark] .colab-df-convert {\n",
              "      background-color: #3B4455;\n",
              "      fill: #D2E3FC;\n",
              "    }\n",
              "\n",
              "    [theme=dark] .colab-df-convert:hover {\n",
              "      background-color: #434B5C;\n",
              "      box-shadow: 0px 1px 3px 1px rgba(0, 0, 0, 0.15);\n",
              "      filter: drop-shadow(0px 1px 2px rgba(0, 0, 0, 0.3));\n",
              "      fill: #FFFFFF;\n",
              "    }\n",
              "  </style>\n",
              "\n",
              "      <script>\n",
              "        const buttonEl =\n",
              "          document.querySelector('#df-718440fa-1d58-41c0-bb9c-c20d96174c5b button.colab-df-convert');\n",
              "        buttonEl.style.display =\n",
              "          google.colab.kernel.accessAllowed ? 'block' : 'none';\n",
              "\n",
              "        async function convertToInteractive(key) {\n",
              "          const element = document.querySelector('#df-718440fa-1d58-41c0-bb9c-c20d96174c5b');\n",
              "          const dataTable =\n",
              "            await google.colab.kernel.invokeFunction('convertToInteractive',\n",
              "                                                     [key], {});\n",
              "          if (!dataTable) return;\n",
              "\n",
              "          const docLinkHtml = 'Like what you see? Visit the ' +\n",
              "            '<a target=\"_blank\" href=https://colab.research.google.com/notebooks/data_table.ipynb>data table notebook</a>'\n",
              "            + ' to learn more about interactive tables.';\n",
              "          element.innerHTML = '';\n",
              "          dataTable['output_type'] = 'display_data';\n",
              "          await google.colab.output.renderOutput(dataTable, element);\n",
              "          const docLink = document.createElement('div');\n",
              "          docLink.innerHTML = docLinkHtml;\n",
              "          element.appendChild(docLink);\n",
              "        }\n",
              "      </script>\n",
              "    </div>\n",
              "  </div>\n",
              "  "
            ]
          },
          "metadata": {},
          "execution_count": 23
        }
      ]
    },
    {
      "cell_type": "markdown",
      "metadata": {
        "deletable": false,
        "editable": false,
        "nbgrader": {
          "checksum": "7409a97cd6cc5a2203cb5953fd78951e",
          "grade": false,
          "grade_id": "cell-0bf07ed81b15a7c6",
          "locked": true,
          "schema_version": 1,
          "solution": false
        },
        "id": "AGnnilDI8Whl"
      },
      "source": [
        "Now, normalize the remaining values."
      ]
    },
    {
      "cell_type": "code",
      "metadata": {
        "deletable": false,
        "editable": false,
        "nbgrader": {
          "checksum": "d415896af702471cbf3bad5e3bbf2298",
          "grade": false,
          "grade_id": "cell-d0c0fa3af31b680b",
          "locked": true,
          "schema_version": 1,
          "solution": false
        },
        "id": "-tYTGviT8Whm",
        "colab": {
          "base_uri": "https://localhost:8080/",
          "height": 236
        },
        "outputId": "60a3113c-50e1-4226-e7d0-8fec8197917d"
      },
      "source": [
        "df2 = pd.DataFrame(normalize(nona.drop(columns=[\"user_id\", \"q16s\", \"q16t\"])))\n",
        "df2.head()"
      ],
      "execution_count": 24,
      "outputs": [
        {
          "output_type": "execute_result",
          "data": {
            "text/plain": [
              "        0         1         2         3         4         5         6    \\\n",
              "0  0.011846  0.002962  0.001481  0.011846  0.003080  0.003080  0.026920   \n",
              "1  0.003713  0.001856  0.001856  0.003713  0.001281  0.001281  0.046410   \n",
              "2  0.000492  0.000000  0.000000  0.000492  0.000000  0.000000  0.000000   \n",
              "3  0.003793  0.000000  0.000000  0.003034  0.001221  0.001054  0.000000   \n",
              "4  0.007589  0.007589  0.004743  0.012333  0.001973  0.002429  0.029191   \n",
              "\n",
              "        7         8         9    ...  271  272  273  274  275  276  277  278  \\\n",
              "0  0.013460  0.107696  0.014808  ...  0.0  0.0  0.0  0.0  0.0  0.0  0.0  0.0   \n",
              "1  0.046410  0.092820  0.018564  ...  0.0  0.0  0.0  0.0  0.0  0.0  0.0  0.0   \n",
              "2  0.000000  0.049250  0.002462  ...  0.0  0.0  0.0  0.0  0.0  0.0  0.0  0.0   \n",
              "3  0.000000  0.075862  0.004552  ...  0.0  0.0  0.0  0.0  0.0  0.0  0.0  0.0   \n",
              "4  0.018243  0.047434  0.008538  ...  0.0  0.0  0.0  0.0  0.0  0.0  0.0  0.0   \n",
              "\n",
              "   279  280  \n",
              "0  0.0  0.0  \n",
              "1  0.0  0.0  \n",
              "2  0.0  0.0  \n",
              "3  0.0  0.0  \n",
              "4  0.0  0.0  \n",
              "\n",
              "[5 rows x 281 columns]"
            ],
            "text/html": [
              "\n",
              "  <div id=\"df-ecbee370-d172-4487-9471-555efde5b04e\">\n",
              "    <div class=\"colab-df-container\">\n",
              "      <div>\n",
              "<style scoped>\n",
              "    .dataframe tbody tr th:only-of-type {\n",
              "        vertical-align: middle;\n",
              "    }\n",
              "\n",
              "    .dataframe tbody tr th {\n",
              "        vertical-align: top;\n",
              "    }\n",
              "\n",
              "    .dataframe thead th {\n",
              "        text-align: right;\n",
              "    }\n",
              "</style>\n",
              "<table border=\"1\" class=\"dataframe\">\n",
              "  <thead>\n",
              "    <tr style=\"text-align: right;\">\n",
              "      <th></th>\n",
              "      <th>0</th>\n",
              "      <th>1</th>\n",
              "      <th>2</th>\n",
              "      <th>3</th>\n",
              "      <th>4</th>\n",
              "      <th>5</th>\n",
              "      <th>6</th>\n",
              "      <th>7</th>\n",
              "      <th>8</th>\n",
              "      <th>9</th>\n",
              "      <th>...</th>\n",
              "      <th>271</th>\n",
              "      <th>272</th>\n",
              "      <th>273</th>\n",
              "      <th>274</th>\n",
              "      <th>275</th>\n",
              "      <th>276</th>\n",
              "      <th>277</th>\n",
              "      <th>278</th>\n",
              "      <th>279</th>\n",
              "      <th>280</th>\n",
              "    </tr>\n",
              "  </thead>\n",
              "  <tbody>\n",
              "    <tr>\n",
              "      <th>0</th>\n",
              "      <td>0.011846</td>\n",
              "      <td>0.002962</td>\n",
              "      <td>0.001481</td>\n",
              "      <td>0.011846</td>\n",
              "      <td>0.003080</td>\n",
              "      <td>0.003080</td>\n",
              "      <td>0.026920</td>\n",
              "      <td>0.013460</td>\n",
              "      <td>0.107696</td>\n",
              "      <td>0.014808</td>\n",
              "      <td>...</td>\n",
              "      <td>0.0</td>\n",
              "      <td>0.0</td>\n",
              "      <td>0.0</td>\n",
              "      <td>0.0</td>\n",
              "      <td>0.0</td>\n",
              "      <td>0.0</td>\n",
              "      <td>0.0</td>\n",
              "      <td>0.0</td>\n",
              "      <td>0.0</td>\n",
              "      <td>0.0</td>\n",
              "    </tr>\n",
              "    <tr>\n",
              "      <th>1</th>\n",
              "      <td>0.003713</td>\n",
              "      <td>0.001856</td>\n",
              "      <td>0.001856</td>\n",
              "      <td>0.003713</td>\n",
              "      <td>0.001281</td>\n",
              "      <td>0.001281</td>\n",
              "      <td>0.046410</td>\n",
              "      <td>0.046410</td>\n",
              "      <td>0.092820</td>\n",
              "      <td>0.018564</td>\n",
              "      <td>...</td>\n",
              "      <td>0.0</td>\n",
              "      <td>0.0</td>\n",
              "      <td>0.0</td>\n",
              "      <td>0.0</td>\n",
              "      <td>0.0</td>\n",
              "      <td>0.0</td>\n",
              "      <td>0.0</td>\n",
              "      <td>0.0</td>\n",
              "      <td>0.0</td>\n",
              "      <td>0.0</td>\n",
              "    </tr>\n",
              "    <tr>\n",
              "      <th>2</th>\n",
              "      <td>0.000492</td>\n",
              "      <td>0.000000</td>\n",
              "      <td>0.000000</td>\n",
              "      <td>0.000492</td>\n",
              "      <td>0.000000</td>\n",
              "      <td>0.000000</td>\n",
              "      <td>0.000000</td>\n",
              "      <td>0.000000</td>\n",
              "      <td>0.049250</td>\n",
              "      <td>0.002462</td>\n",
              "      <td>...</td>\n",
              "      <td>0.0</td>\n",
              "      <td>0.0</td>\n",
              "      <td>0.0</td>\n",
              "      <td>0.0</td>\n",
              "      <td>0.0</td>\n",
              "      <td>0.0</td>\n",
              "      <td>0.0</td>\n",
              "      <td>0.0</td>\n",
              "      <td>0.0</td>\n",
              "      <td>0.0</td>\n",
              "    </tr>\n",
              "    <tr>\n",
              "      <th>3</th>\n",
              "      <td>0.003793</td>\n",
              "      <td>0.000000</td>\n",
              "      <td>0.000000</td>\n",
              "      <td>0.003034</td>\n",
              "      <td>0.001221</td>\n",
              "      <td>0.001054</td>\n",
              "      <td>0.000000</td>\n",
              "      <td>0.000000</td>\n",
              "      <td>0.075862</td>\n",
              "      <td>0.004552</td>\n",
              "      <td>...</td>\n",
              "      <td>0.0</td>\n",
              "      <td>0.0</td>\n",
              "      <td>0.0</td>\n",
              "      <td>0.0</td>\n",
              "      <td>0.0</td>\n",
              "      <td>0.0</td>\n",
              "      <td>0.0</td>\n",
              "      <td>0.0</td>\n",
              "      <td>0.0</td>\n",
              "      <td>0.0</td>\n",
              "    </tr>\n",
              "    <tr>\n",
              "      <th>4</th>\n",
              "      <td>0.007589</td>\n",
              "      <td>0.007589</td>\n",
              "      <td>0.004743</td>\n",
              "      <td>0.012333</td>\n",
              "      <td>0.001973</td>\n",
              "      <td>0.002429</td>\n",
              "      <td>0.029191</td>\n",
              "      <td>0.018243</td>\n",
              "      <td>0.047434</td>\n",
              "      <td>0.008538</td>\n",
              "      <td>...</td>\n",
              "      <td>0.0</td>\n",
              "      <td>0.0</td>\n",
              "      <td>0.0</td>\n",
              "      <td>0.0</td>\n",
              "      <td>0.0</td>\n",
              "      <td>0.0</td>\n",
              "      <td>0.0</td>\n",
              "      <td>0.0</td>\n",
              "      <td>0.0</td>\n",
              "      <td>0.0</td>\n",
              "    </tr>\n",
              "  </tbody>\n",
              "</table>\n",
              "<p>5 rows × 281 columns</p>\n",
              "</div>\n",
              "      <button class=\"colab-df-convert\" onclick=\"convertToInteractive('df-ecbee370-d172-4487-9471-555efde5b04e')\"\n",
              "              title=\"Convert this dataframe to an interactive table.\"\n",
              "              style=\"display:none;\">\n",
              "        \n",
              "  <svg xmlns=\"http://www.w3.org/2000/svg\" height=\"24px\"viewBox=\"0 0 24 24\"\n",
              "       width=\"24px\">\n",
              "    <path d=\"M0 0h24v24H0V0z\" fill=\"none\"/>\n",
              "    <path d=\"M18.56 5.44l.94 2.06.94-2.06 2.06-.94-2.06-.94-.94-2.06-.94 2.06-2.06.94zm-11 1L8.5 8.5l.94-2.06 2.06-.94-2.06-.94L8.5 2.5l-.94 2.06-2.06.94zm10 10l.94 2.06.94-2.06 2.06-.94-2.06-.94-.94-2.06-.94 2.06-2.06.94z\"/><path d=\"M17.41 7.96l-1.37-1.37c-.4-.4-.92-.59-1.43-.59-.52 0-1.04.2-1.43.59L10.3 9.45l-7.72 7.72c-.78.78-.78 2.05 0 2.83L4 21.41c.39.39.9.59 1.41.59.51 0 1.02-.2 1.41-.59l7.78-7.78 2.81-2.81c.8-.78.8-2.07 0-2.86zM5.41 20L4 18.59l7.72-7.72 1.47 1.35L5.41 20z\"/>\n",
              "  </svg>\n",
              "      </button>\n",
              "      \n",
              "  <style>\n",
              "    .colab-df-container {\n",
              "      display:flex;\n",
              "      flex-wrap:wrap;\n",
              "      gap: 12px;\n",
              "    }\n",
              "\n",
              "    .colab-df-convert {\n",
              "      background-color: #E8F0FE;\n",
              "      border: none;\n",
              "      border-radius: 50%;\n",
              "      cursor: pointer;\n",
              "      display: none;\n",
              "      fill: #1967D2;\n",
              "      height: 32px;\n",
              "      padding: 0 0 0 0;\n",
              "      width: 32px;\n",
              "    }\n",
              "\n",
              "    .colab-df-convert:hover {\n",
              "      background-color: #E2EBFA;\n",
              "      box-shadow: 0px 1px 2px rgba(60, 64, 67, 0.3), 0px 1px 3px 1px rgba(60, 64, 67, 0.15);\n",
              "      fill: #174EA6;\n",
              "    }\n",
              "\n",
              "    [theme=dark] .colab-df-convert {\n",
              "      background-color: #3B4455;\n",
              "      fill: #D2E3FC;\n",
              "    }\n",
              "\n",
              "    [theme=dark] .colab-df-convert:hover {\n",
              "      background-color: #434B5C;\n",
              "      box-shadow: 0px 1px 3px 1px rgba(0, 0, 0, 0.15);\n",
              "      filter: drop-shadow(0px 1px 2px rgba(0, 0, 0, 0.3));\n",
              "      fill: #FFFFFF;\n",
              "    }\n",
              "  </style>\n",
              "\n",
              "      <script>\n",
              "        const buttonEl =\n",
              "          document.querySelector('#df-ecbee370-d172-4487-9471-555efde5b04e button.colab-df-convert');\n",
              "        buttonEl.style.display =\n",
              "          google.colab.kernel.accessAllowed ? 'block' : 'none';\n",
              "\n",
              "        async function convertToInteractive(key) {\n",
              "          const element = document.querySelector('#df-ecbee370-d172-4487-9471-555efde5b04e');\n",
              "          const dataTable =\n",
              "            await google.colab.kernel.invokeFunction('convertToInteractive',\n",
              "                                                     [key], {});\n",
              "          if (!dataTable) return;\n",
              "\n",
              "          const docLinkHtml = 'Like what you see? Visit the ' +\n",
              "            '<a target=\"_blank\" href=https://colab.research.google.com/notebooks/data_table.ipynb>data table notebook</a>'\n",
              "            + ' to learn more about interactive tables.';\n",
              "          element.innerHTML = '';\n",
              "          dataTable['output_type'] = 'display_data';\n",
              "          await google.colab.output.renderOutput(dataTable, element);\n",
              "          const docLink = document.createElement('div');\n",
              "          docLink.innerHTML = docLinkHtml;\n",
              "          element.appendChild(docLink);\n",
              "        }\n",
              "      </script>\n",
              "    </div>\n",
              "  </div>\n",
              "  "
            ]
          },
          "metadata": {},
          "execution_count": 24
        }
      ]
    },
    {
      "cell_type": "markdown",
      "metadata": {
        "deletable": false,
        "editable": false,
        "nbgrader": {
          "checksum": "26e9bec01f855d44456f65879afa7ccf",
          "grade": false,
          "grade_id": "cell-be1b2a4ecbcb5558",
          "locked": true,
          "schema_version": 1,
          "solution": false
        },
        "id": "jSJjHlsc8Wht"
      },
      "source": [
        "Using the the \"sum of squared errors\" metric along with the elbow method (make a graph and visually examine for the elbow), what is the best k to use for this dataset? (Hint: look at the `inertia_` attribute for k-means in sklearn)."
      ]
    },
    {
      "cell_type": "code",
      "metadata": {
        "deletable": false,
        "nbgrader": {
          "checksum": "3971d6b7067c2e2b586a79b0fca34252",
          "grade": true,
          "grade_id": "cell-f49f54902337159c",
          "locked": false,
          "points": 2,
          "schema_version": 1,
          "solution": true
        },
        "id": "HoZOPumL8Whv",
        "colab": {
          "base_uri": "https://localhost:8080/",
          "height": 282
        },
        "outputId": "e457a9e8-6b94-4d37-a1ff-f69db383873b"
      },
      "source": [
        "# The return value should be a graph to visualize the elbow method and the value of k determined from that graph.\n",
        "ks = [2, 3, 4, 5, 6, 7, 8]\n",
        "errors = []\n",
        "x = df2\n",
        "for k in ks:\n",
        "  km = KMeans(n_clusters = k, random_state = 42)\n",
        "  km.fit(x)\n",
        "  error = km.inertia_\n",
        "  errors.append(error)\n",
        "plt.plot(ks, errors, marker = \"o\")"
      ],
      "execution_count": 25,
      "outputs": [
        {
          "output_type": "execute_result",
          "data": {
            "text/plain": [
              "[<matplotlib.lines.Line2D at 0x7f8e42c510d0>]"
            ]
          },
          "metadata": {},
          "execution_count": 25
        },
        {
          "output_type": "display_data",
          "data": {
            "text/plain": [
              "<Figure size 432x288 with 1 Axes>"
            ],
            "image/png": "[encoded data removed]"
          },
          "metadata": {}
        }
      ]
    },
    {
      "cell_type": "markdown",
      "source": [
        "Based on the SSE and elbow method, the best k to use for this dataset is k=4."
      ],
      "metadata": {
        "id": "pbXEsAnx2-ik"
      }
    },
    {
      "cell_type": "markdown",
      "metadata": {
        "deletable": false,
        "editable": false,
        "nbgrader": {
          "checksum": "78e8416b2c9c63fb2e91cc747a982eb9",
          "grade": false,
          "grade_id": "cell-ed56b09f2baf02c7",
          "locked": true,
          "schema_version": 1,
          "solution": false
        },
        "id": "_-cRpVgA8Wh2"
      },
      "source": [
        "### Question 10 `(1 points)`\n",
        "For this question, please come up with your own question about this dataset and using a clustering technique as part of your method of answering it. Describe the question you propose and how clustering can answer that question. Feel free to use additional cells if needed.\n"
      ]
    },
    {
      "cell_type": "markdown",
      "source": [
        "**Question: YOUR QUESTION HERE**"
      ],
      "metadata": {
        "id": "c9JeChN2CcsC"
      }
    },
    {
      "cell_type": "code",
      "source": [
        "print(\"From the best cluster in question 3, are the percentage of types of votes equally distributed?\")\n",
        "def q10(df):\n",
        "  x = df[[\"q11\", \"q12\", \"q13\"]].dropna()\n",
        "  km = KMeans(n_clusters=8, random_state = 42)\n",
        "  km.fit(x)\n",
        "  return (km.cluster_centers_)\n",
        "print(q10(df))"
      ],
      "metadata": {
        "id": "Xn1xen_8CuY3",
        "colab": {
          "base_uri": "https://localhost:8080/"
        },
        "outputId": "a76c605e-0388-466a-ec12-7fbbc4c5b3a0"
      },
      "execution_count": 26,
      "outputs": [
        {
          "output_type": "stream",
          "name": "stdout",
          "text": [
            "From the best cluster in question 3, are the percentage of types of votes equally distributed?\n",
            "[[ 3.22372749 52.6463163  44.13010706]\n",
            " [26.65194971  3.35620509 69.99171457]\n",
            " [ 0.30151074  0.41439068 99.28407749]\n",
            " [98.15302932  0.96006515  0.88692182]\n",
            " [14.77627648 24.31256856 60.91198216]\n",
            " [47.56644166  3.80018912 48.6333343 ]\n",
            " [ 1.13148897 98.30148897  0.56707721]\n",
            " [33.32621234 32.8740678  33.79618409]]\n"
          ]
        }
      ]
    },
    {
      "cell_type": "markdown",
      "source": [
        "### **Written Answer**"
      ],
      "metadata": {
        "id": "5nkFsYVnD7ll"
      }
    },
    {
      "cell_type": "markdown",
      "source": [
        "The question is asking that in the best cluster from problem 3, are the percentages of different types of votes per review equally distributed? Since there are 3 types of votes, having centers close to 33.3% would mean the votes are equally distributed in the cluster. Looking at the centers, it is clear that most are not equally distributed. "
      ],
      "metadata": {
        "id": "b-aokzFoDhWA"
      }
    },
    {
      "cell_type": "markdown",
      "metadata": {
        "deletable": false,
        "editable": false,
        "nbgrader": {
          "checksum": "47c18987b74081b9f0e201d36229f33d",
          "grade": false,
          "grade_id": "cell-b549ed2cba475bb7",
          "locked": true,
          "schema_version": 1,
          "solution": false
        },
        "id": "Ylv6UWqm8WiC"
      },
      "source": [
        "## Bonus question (`2 Points`) - Reviewer overlap:\n",
        "\n",
        "Now, let's take a look back at what we were doing last week, and use that in junction with what we've learned from above today.\n",
        "\n",
        "For this bonus question, please:\n",
        "- Download last week's dataset\n",
        "- Aggregate cool, funny, and useful votes for each business id\n",
        "- You may transform the aggregations (take %, log, or leave it as it is)\n",
        "- Cluster this dataframe (you can choose k). Do you find any meaningful/interesting clusters?\n",
        "- Assign the cluster label to each business id\n",
        "- Merge this with users to show what clusters the reviewers have reviewed.\n",
        "\n",
        "\n",
        "**You should be returning a dataframe with the following structure in the end:**\n",
        "\n",
        "Rows: user IDs as indices.\n",
        "\n",
        "Columns: boolean columns describing if the user ID has a review for each of the labels determined from the K-Means clustering, a boolean column describing if the user ID has a review for all of the given labels, and a column composing of lists of cluster IDs that the given user ID has written reviews for."
      ]
    },
    {
      "cell_type": "code",
      "source": [
        "# YOUR CODE HERE"
      ],
      "metadata": {
        "id": "ZA7-1wpAE40P"
      },
      "execution_count": null,
      "outputs": []
    },
    {
      "cell_type": "code",
      "source": [
        "#This is a graded cell, do not edit\n",
        "print(bonus_df.head())"
      ],
      "metadata": {
        "id": "EgyyE_xVteq8"
      },
      "execution_count": null,
      "outputs": []
    },
    {
      "cell_type": "markdown",
      "source": [
        "*ⓒ Prof. Zachary Pardos, 2022*"
      ],
      "metadata": {
        "id": "h7v7FfzrDKCo"
      }
    }
  ]
}